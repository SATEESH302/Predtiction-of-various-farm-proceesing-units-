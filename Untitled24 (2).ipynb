{
  "nbformat": 4,
  "nbformat_minor": 0,
  "metadata": {
    "colab": {
      "name": "Untitled24.ipynb",
      "provenance": [],
      "collapsed_sections": [],
      "machine_shape": "hm"
    },
    "kernelspec": {
      "name": "python3",
      "display_name": "Python 3"
    },
    "accelerator": "GPU"
  },
  "cells": [
    {
      "cell_type": "code",
      "metadata": {
        "id": "NgqAJqIq8wpy",
        "colab_type": "code",
        "outputId": "be283fd5-fabc-45c1-cef2-5a98f52d718e",
        "colab": {
          "base_uri": "https://localhost:8080/",
          "height": 122
        }
      },
      "source": [
        "from google.colab import drive\n",
        "drive.mount('/content/drive')"
      ],
      "execution_count": 2,
      "outputs": [
        {
          "output_type": "stream",
          "text": [
            "Go to this URL in a browser: https://accounts.google.com/o/oauth2/auth?client_id=947318989803-6bn6qk8qdgf4n4g3pfee6491hc0brc4i.apps.googleusercontent.com&redirect_uri=urn%3aietf%3awg%3aoauth%3a2.0%3aoob&response_type=code&scope=email%20https%3a%2f%2fwww.googleapis.com%2fauth%2fdocs.test%20https%3a%2f%2fwww.googleapis.com%2fauth%2fdrive%20https%3a%2f%2fwww.googleapis.com%2fauth%2fdrive.photos.readonly%20https%3a%2f%2fwww.googleapis.com%2fauth%2fpeopleapi.readonly\n",
            "\n",
            "Enter your authorization code:\n",
            "··········\n",
            "Mounted at /content/drive\n"
          ],
          "name": "stdout"
        }
      ]
    },
    {
      "cell_type": "code",
      "metadata": {
        "id": "YebqPX7c8x4C",
        "colab_type": "code",
        "colab": {}
      },
      "source": [
        "import pandas as pd"
      ],
      "execution_count": 0,
      "outputs": []
    },
    {
      "cell_type": "code",
      "metadata": {
        "id": "PlT_pbUm8991",
        "colab_type": "code",
        "colab": {}
      },
      "source": [
        "traindata=pd.read_csv('/content/drive/My Drive/train_data.csv')"
      ],
      "execution_count": 0,
      "outputs": []
    },
    {
      "cell_type": "markdown",
      "metadata": {
        "id": "Le9CTqOVJvHt",
        "colab_type": "text"
      },
      "source": [
        ""
      ]
    },
    {
      "cell_type": "code",
      "metadata": {
        "id": "bDa0cQ6j9LFW",
        "colab_type": "code",
        "outputId": "d511631e-fbbc-451d-f51c-c6b92304dc78",
        "colab": {
          "base_uri": "https://localhost:8080/",
          "height": 359
        }
      },
      "source": [
        "\n",
        "traindata.head(10)"
      ],
      "execution_count": 6,
      "outputs": [
        {
          "output_type": "execute_result",
          "data": {
            "text/html": [
              "<div>\n",
              "<style scoped>\n",
              "    .dataframe tbody tr th:only-of-type {\n",
              "        vertical-align: middle;\n",
              "    }\n",
              "\n",
              "    .dataframe tbody tr th {\n",
              "        vertical-align: top;\n",
              "    }\n",
              "\n",
              "    .dataframe thead th {\n",
              "        text-align: right;\n",
              "    }\n",
              "</style>\n",
              "<table border=\"1\" class=\"dataframe\">\n",
              "  <thead>\n",
              "    <tr style=\"text-align: right;\">\n",
              "      <th></th>\n",
              "      <th>date</th>\n",
              "      <th>farm_id</th>\n",
              "      <th>ingredient_type</th>\n",
              "      <th>yield</th>\n",
              "    </tr>\n",
              "  </thead>\n",
              "  <tbody>\n",
              "    <tr>\n",
              "      <th>0</th>\n",
              "      <td>2016-01-01 00:00:00</td>\n",
              "      <td>fid_110884</td>\n",
              "      <td>ing_w</td>\n",
              "      <td>0.0</td>\n",
              "    </tr>\n",
              "    <tr>\n",
              "      <th>1</th>\n",
              "      <td>2016-01-01 00:00:00</td>\n",
              "      <td>fid_90053</td>\n",
              "      <td>ing_w</td>\n",
              "      <td>0.0</td>\n",
              "    </tr>\n",
              "    <tr>\n",
              "      <th>2</th>\n",
              "      <td>2016-01-01 00:00:00</td>\n",
              "      <td>fid_17537</td>\n",
              "      <td>ing_w</td>\n",
              "      <td>0.0</td>\n",
              "    </tr>\n",
              "    <tr>\n",
              "      <th>3</th>\n",
              "      <td>2016-01-01 00:00:00</td>\n",
              "      <td>fid_110392</td>\n",
              "      <td>ing_w</td>\n",
              "      <td>0.0</td>\n",
              "    </tr>\n",
              "    <tr>\n",
              "      <th>4</th>\n",
              "      <td>2016-01-01 00:00:00</td>\n",
              "      <td>fid_62402</td>\n",
              "      <td>ing_w</td>\n",
              "      <td>0.0</td>\n",
              "    </tr>\n",
              "    <tr>\n",
              "      <th>5</th>\n",
              "      <td>2016-01-01 00:00:00</td>\n",
              "      <td>fid_121604</td>\n",
              "      <td>ing_w</td>\n",
              "      <td>0.0</td>\n",
              "    </tr>\n",
              "    <tr>\n",
              "      <th>6</th>\n",
              "      <td>2016-01-01 00:00:00</td>\n",
              "      <td>fid_85694</td>\n",
              "      <td>ing_w</td>\n",
              "      <td>0.0</td>\n",
              "    </tr>\n",
              "    <tr>\n",
              "      <th>7</th>\n",
              "      <td>2016-01-01 00:00:00</td>\n",
              "      <td>fid_33785</td>\n",
              "      <td>ing_w</td>\n",
              "      <td>0.0</td>\n",
              "    </tr>\n",
              "    <tr>\n",
              "      <th>8</th>\n",
              "      <td>2016-01-01 00:00:00</td>\n",
              "      <td>fid_110793</td>\n",
              "      <td>ing_w</td>\n",
              "      <td>0.0</td>\n",
              "    </tr>\n",
              "    <tr>\n",
              "      <th>9</th>\n",
              "      <td>2016-01-01 00:00:00</td>\n",
              "      <td>fid_32954</td>\n",
              "      <td>ing_w</td>\n",
              "      <td>0.0</td>\n",
              "    </tr>\n",
              "  </tbody>\n",
              "</table>\n",
              "</div>"
            ],
            "text/plain": [
              "                  date     farm_id ingredient_type  yield\n",
              "0  2016-01-01 00:00:00  fid_110884           ing_w    0.0\n",
              "1  2016-01-01 00:00:00   fid_90053           ing_w    0.0\n",
              "2  2016-01-01 00:00:00   fid_17537           ing_w    0.0\n",
              "3  2016-01-01 00:00:00  fid_110392           ing_w    0.0\n",
              "4  2016-01-01 00:00:00   fid_62402           ing_w    0.0\n",
              "5  2016-01-01 00:00:00  fid_121604           ing_w    0.0\n",
              "6  2016-01-01 00:00:00   fid_85694           ing_w    0.0\n",
              "7  2016-01-01 00:00:00   fid_33785           ing_w    0.0\n",
              "8  2016-01-01 00:00:00  fid_110793           ing_w    0.0\n",
              "9  2016-01-01 00:00:00   fid_32954           ing_w    0.0"
            ]
          },
          "metadata": {
            "tags": []
          },
          "execution_count": 6
        }
      ]
    },
    {
      "cell_type": "code",
      "metadata": {
        "id": "Fj_sTVWiRe0M",
        "colab_type": "code",
        "colab": {
          "base_uri": "https://localhost:8080/",
          "height": 34
        },
        "outputId": "2c6dcfff-08f3-40a2-f552-1d8d2bf92715"
      },
      "source": [
        "traindata.shape"
      ],
      "execution_count": 7,
      "outputs": [
        {
          "output_type": "execute_result",
          "data": {
            "text/plain": [
              "(20216100, 4)"
            ]
          },
          "metadata": {
            "tags": []
          },
          "execution_count": 7
        }
      ]
    },
    {
      "cell_type": "code",
      "metadata": {
        "id": "BX33VinIF8lF",
        "colab_type": "code",
        "outputId": "f7f353c6-6726-43c3-a087-2901378a15d3",
        "colab": {
          "base_uri": "https://localhost:8080/",
          "height": 204
        }
      },
      "source": [
        "traindata.sample(5)"
      ],
      "execution_count": 5,
      "outputs": [
        {
          "output_type": "execute_result",
          "data": {
            "text/html": [
              "<div>\n",
              "<style scoped>\n",
              "    .dataframe tbody tr th:only-of-type {\n",
              "        vertical-align: middle;\n",
              "    }\n",
              "\n",
              "    .dataframe tbody tr th {\n",
              "        vertical-align: top;\n",
              "    }\n",
              "\n",
              "    .dataframe thead th {\n",
              "        text-align: right;\n",
              "    }\n",
              "</style>\n",
              "<table border=\"1\" class=\"dataframe\">\n",
              "  <thead>\n",
              "    <tr style=\"text-align: right;\">\n",
              "      <th></th>\n",
              "      <th>date</th>\n",
              "      <th>farm_id</th>\n",
              "      <th>ingredient_type</th>\n",
              "      <th>yield</th>\n",
              "    </tr>\n",
              "  </thead>\n",
              "  <tbody>\n",
              "    <tr>\n",
              "      <th>8571089</th>\n",
              "      <td>2016-06-07 10:00:00</td>\n",
              "      <td>fid_102520</td>\n",
              "      <td>ing_w</td>\n",
              "      <td>17.9875</td>\n",
              "    </tr>\n",
              "    <tr>\n",
              "      <th>4101192</th>\n",
              "      <td>2016-03-18 19:00:00</td>\n",
              "      <td>fid_23372</td>\n",
              "      <td>ing_x</td>\n",
              "      <td>894.3700</td>\n",
              "    </tr>\n",
              "    <tr>\n",
              "      <th>18108723</th>\n",
              "      <td>2016-11-24 06:00:00</td>\n",
              "      <td>fid_105588</td>\n",
              "      <td>ing_x</td>\n",
              "      <td>0.0000</td>\n",
              "    </tr>\n",
              "    <tr>\n",
              "      <th>4454878</th>\n",
              "      <td>2016-03-25 19:00:00</td>\n",
              "      <td>fid_83991</td>\n",
              "      <td>ing_y</td>\n",
              "      <td>61.0000</td>\n",
              "    </tr>\n",
              "    <tr>\n",
              "      <th>16222959</th>\n",
              "      <td>2016-10-21 16:00:00</td>\n",
              "      <td>fid_34005</td>\n",
              "      <td>ing_w</td>\n",
              "      <td>429.3820</td>\n",
              "    </tr>\n",
              "  </tbody>\n",
              "</table>\n",
              "</div>"
            ],
            "text/plain": [
              "                         date     farm_id ingredient_type     yield\n",
              "8571089   2016-06-07 10:00:00  fid_102520           ing_w   17.9875\n",
              "4101192   2016-03-18 19:00:00   fid_23372           ing_x  894.3700\n",
              "18108723  2016-11-24 06:00:00  fid_105588           ing_x    0.0000\n",
              "4454878   2016-03-25 19:00:00   fid_83991           ing_y   61.0000\n",
              "16222959  2016-10-21 16:00:00   fid_34005           ing_w  429.3820"
            ]
          },
          "metadata": {
            "tags": []
          },
          "execution_count": 5
        }
      ]
    },
    {
      "cell_type": "code",
      "metadata": {
        "id": "il0LfpYE3iBx",
        "colab_type": "code",
        "colab": {}
      },
      "source": [
        "traindata['date'] = pd.to_datetime(traindata['date'])"
      ],
      "execution_count": 0,
      "outputs": []
    },
    {
      "cell_type": "code",
      "metadata": {
        "id": "olIdjxr732qg",
        "colab_type": "code",
        "colab": {}
      },
      "source": [
        "traindata['ondate'] = traindata['date'].dt.date"
      ],
      "execution_count": 0,
      "outputs": []
    },
    {
      "cell_type": "code",
      "metadata": {
        "id": "KfoWF_HpmveY",
        "colab_type": "code",
        "colab": {}
      },
      "source": [
        "dateindex=traindata.copy()"
      ],
      "execution_count": 0,
      "outputs": []
    },
    {
      "cell_type": "code",
      "metadata": {
        "id": "mY_2A0Lnm1hj",
        "colab_type": "code",
        "colab": {
          "base_uri": "https://localhost:8080/",
          "height": 204
        },
        "outputId": "0452653c-3bf3-4d7d-df3d-0094078ab928"
      },
      "source": [
        "dateindex.head(5)"
      ],
      "execution_count": 11,
      "outputs": [
        {
          "output_type": "execute_result",
          "data": {
            "text/html": [
              "<div>\n",
              "<style scoped>\n",
              "    .dataframe tbody tr th:only-of-type {\n",
              "        vertical-align: middle;\n",
              "    }\n",
              "\n",
              "    .dataframe tbody tr th {\n",
              "        vertical-align: top;\n",
              "    }\n",
              "\n",
              "    .dataframe thead th {\n",
              "        text-align: right;\n",
              "    }\n",
              "</style>\n",
              "<table border=\"1\" class=\"dataframe\">\n",
              "  <thead>\n",
              "    <tr style=\"text-align: right;\">\n",
              "      <th></th>\n",
              "      <th>date</th>\n",
              "      <th>farm_id</th>\n",
              "      <th>ingredient_type</th>\n",
              "      <th>yield</th>\n",
              "      <th>ondate</th>\n",
              "    </tr>\n",
              "  </thead>\n",
              "  <tbody>\n",
              "    <tr>\n",
              "      <th>0</th>\n",
              "      <td>2016-01-01</td>\n",
              "      <td>fid_110884</td>\n",
              "      <td>ing_w</td>\n",
              "      <td>0.0</td>\n",
              "      <td>2016-01-01</td>\n",
              "    </tr>\n",
              "    <tr>\n",
              "      <th>1</th>\n",
              "      <td>2016-01-01</td>\n",
              "      <td>fid_90053</td>\n",
              "      <td>ing_w</td>\n",
              "      <td>0.0</td>\n",
              "      <td>2016-01-01</td>\n",
              "    </tr>\n",
              "    <tr>\n",
              "      <th>2</th>\n",
              "      <td>2016-01-01</td>\n",
              "      <td>fid_17537</td>\n",
              "      <td>ing_w</td>\n",
              "      <td>0.0</td>\n",
              "      <td>2016-01-01</td>\n",
              "    </tr>\n",
              "    <tr>\n",
              "      <th>3</th>\n",
              "      <td>2016-01-01</td>\n",
              "      <td>fid_110392</td>\n",
              "      <td>ing_w</td>\n",
              "      <td>0.0</td>\n",
              "      <td>2016-01-01</td>\n",
              "    </tr>\n",
              "    <tr>\n",
              "      <th>4</th>\n",
              "      <td>2016-01-01</td>\n",
              "      <td>fid_62402</td>\n",
              "      <td>ing_w</td>\n",
              "      <td>0.0</td>\n",
              "      <td>2016-01-01</td>\n",
              "    </tr>\n",
              "  </tbody>\n",
              "</table>\n",
              "</div>"
            ],
            "text/plain": [
              "        date     farm_id ingredient_type  yield      ondate\n",
              "0 2016-01-01  fid_110884           ing_w    0.0  2016-01-01\n",
              "1 2016-01-01   fid_90053           ing_w    0.0  2016-01-01\n",
              "2 2016-01-01   fid_17537           ing_w    0.0  2016-01-01\n",
              "3 2016-01-01  fid_110392           ing_w    0.0  2016-01-01\n",
              "4 2016-01-01   fid_62402           ing_w    0.0  2016-01-01"
            ]
          },
          "metadata": {
            "tags": []
          },
          "execution_count": 11
        }
      ]
    },
    {
      "cell_type": "code",
      "metadata": {
        "id": "7mnN9EPrnhPj",
        "colab_type": "code",
        "outputId": "34d96936-0083-4638-993a-5b7dc3ade1fa",
        "colab": {
          "base_uri": "https://localhost:8080/",
          "height": 111
        }
      },
      "source": [
        "dateindex.head(2)"
      ],
      "execution_count": 12,
      "outputs": [
        {
          "output_type": "execute_result",
          "data": {
            "text/html": [
              "<div>\n",
              "<style scoped>\n",
              "    .dataframe tbody tr th:only-of-type {\n",
              "        vertical-align: middle;\n",
              "    }\n",
              "\n",
              "    .dataframe tbody tr th {\n",
              "        vertical-align: top;\n",
              "    }\n",
              "\n",
              "    .dataframe thead th {\n",
              "        text-align: right;\n",
              "    }\n",
              "</style>\n",
              "<table border=\"1\" class=\"dataframe\">\n",
              "  <thead>\n",
              "    <tr style=\"text-align: right;\">\n",
              "      <th></th>\n",
              "      <th>date</th>\n",
              "      <th>farm_id</th>\n",
              "      <th>ingredient_type</th>\n",
              "      <th>yield</th>\n",
              "      <th>ondate</th>\n",
              "    </tr>\n",
              "  </thead>\n",
              "  <tbody>\n",
              "    <tr>\n",
              "      <th>0</th>\n",
              "      <td>2016-01-01</td>\n",
              "      <td>fid_110884</td>\n",
              "      <td>ing_w</td>\n",
              "      <td>0.0</td>\n",
              "      <td>2016-01-01</td>\n",
              "    </tr>\n",
              "    <tr>\n",
              "      <th>1</th>\n",
              "      <td>2016-01-01</td>\n",
              "      <td>fid_90053</td>\n",
              "      <td>ing_w</td>\n",
              "      <td>0.0</td>\n",
              "      <td>2016-01-01</td>\n",
              "    </tr>\n",
              "  </tbody>\n",
              "</table>\n",
              "</div>"
            ],
            "text/plain": [
              "        date     farm_id ingredient_type  yield      ondate\n",
              "0 2016-01-01  fid_110884           ing_w    0.0  2016-01-01\n",
              "1 2016-01-01   fid_90053           ing_w    0.0  2016-01-01"
            ]
          },
          "metadata": {
            "tags": []
          },
          "execution_count": 12
        }
      ]
    },
    {
      "cell_type": "code",
      "metadata": {
        "id": "SuoTuR85nqmV",
        "colab_type": "code",
        "colab": {}
      },
      "source": [
        "dateindex=dateindex.groupby(['ondate','ingredient_type','farm_id'])['yield'].sum().reset_index()"
      ],
      "execution_count": 0,
      "outputs": []
    },
    {
      "cell_type": "code",
      "metadata": {
        "id": "umDh_V2L5PPs",
        "colab_type": "code",
        "colab": {
          "base_uri": "https://localhost:8080/",
          "height": 204
        },
        "outputId": "6c34376a-0fdf-45e2-8c72-ab5b9d373d49"
      },
      "source": [
        "dateindex.head(5)"
      ],
      "execution_count": 14,
      "outputs": [
        {
          "output_type": "execute_result",
          "data": {
            "text/html": [
              "<div>\n",
              "<style scoped>\n",
              "    .dataframe tbody tr th:only-of-type {\n",
              "        vertical-align: middle;\n",
              "    }\n",
              "\n",
              "    .dataframe tbody tr th {\n",
              "        vertical-align: top;\n",
              "    }\n",
              "\n",
              "    .dataframe thead th {\n",
              "        text-align: right;\n",
              "    }\n",
              "</style>\n",
              "<table border=\"1\" class=\"dataframe\">\n",
              "  <thead>\n",
              "    <tr style=\"text-align: right;\">\n",
              "      <th></th>\n",
              "      <th>ondate</th>\n",
              "      <th>ingredient_type</th>\n",
              "      <th>farm_id</th>\n",
              "      <th>yield</th>\n",
              "    </tr>\n",
              "  </thead>\n",
              "  <tbody>\n",
              "    <tr>\n",
              "      <th>0</th>\n",
              "      <td>2016-01-01</td>\n",
              "      <td>ing_w</td>\n",
              "      <td>fid_100053</td>\n",
              "      <td>933.50</td>\n",
              "    </tr>\n",
              "    <tr>\n",
              "      <th>1</th>\n",
              "      <td>2016-01-01</td>\n",
              "      <td>ing_w</td>\n",
              "      <td>fid_100107</td>\n",
              "      <td>5001.16</td>\n",
              "    </tr>\n",
              "    <tr>\n",
              "      <th>2</th>\n",
              "      <td>2016-01-01</td>\n",
              "      <td>ing_w</td>\n",
              "      <td>fid_100135</td>\n",
              "      <td>620.92</td>\n",
              "    </tr>\n",
              "    <tr>\n",
              "      <th>3</th>\n",
              "      <td>2016-01-01</td>\n",
              "      <td>ing_w</td>\n",
              "      <td>fid_100249</td>\n",
              "      <td>338.73</td>\n",
              "    </tr>\n",
              "    <tr>\n",
              "      <th>4</th>\n",
              "      <td>2016-01-01</td>\n",
              "      <td>ing_w</td>\n",
              "      <td>fid_100303</td>\n",
              "      <td>953.26</td>\n",
              "    </tr>\n",
              "  </tbody>\n",
              "</table>\n",
              "</div>"
            ],
            "text/plain": [
              "       ondate ingredient_type     farm_id    yield\n",
              "0  2016-01-01           ing_w  fid_100053   933.50\n",
              "1  2016-01-01           ing_w  fid_100107  5001.16\n",
              "2  2016-01-01           ing_w  fid_100135   620.92\n",
              "3  2016-01-01           ing_w  fid_100249   338.73\n",
              "4  2016-01-01           ing_w  fid_100303   953.26"
            ]
          },
          "metadata": {
            "tags": []
          },
          "execution_count": 14
        }
      ]
    },
    {
      "cell_type": "code",
      "metadata": {
        "id": "e6zcQBEY5W-D",
        "colab_type": "code",
        "colab": {
          "base_uri": "https://localhost:8080/",
          "height": 692
        },
        "outputId": "29ff8b14-ecc0-411b-97bf-97a40910e70e"
      },
      "source": [
        "import matplotlib.pyplot as plt\n",
        "import seaborn as sns\n",
        "print(dateindex['ingredient_type'].value_counts())\n",
        "plt.figure(figsize=(15,10))\n",
        "sns.countplot(dateindex['ingredient_type'])\n",
        "plt.show()"
      ],
      "execution_count": 15,
      "outputs": [
        {
          "output_type": "stream",
          "text": [
            "ing_w    498759\n",
            "ing_x    174578\n",
            "ing_y    113736\n",
            "ing_z     52845\n",
            "Name: ingredient_type, dtype: int64\n"
          ],
          "name": "stdout"
        },
        {
          "output_type": "display_data",
          "data": {
            "image/png": "[encoded data removed]",
            "text/plain": [
              "<Figure size 1080x720 with 1 Axes>"
            ]
          },
          "metadata": {
            "tags": []
          }
        }
      ]
    },
    {
      "cell_type": "code",
      "metadata": {
        "id": "vC7JQ0sUn-83",
        "colab_type": "code",
        "colab": {}
      },
      "source": [
        "dateindex=dateindex.set_index('ondate')"
      ],
      "execution_count": 0,
      "outputs": []
    },
    {
      "cell_type": "code",
      "metadata": {
        "id": "C6U7oMg3oToi",
        "colab_type": "code",
        "outputId": "5c4617a1-55f5-4015-a895-a9c29b52b09d",
        "colab": {
          "base_uri": "https://localhost:8080/",
          "height": 142
        }
      },
      "source": [
        "dateindex.head(2)"
      ],
      "execution_count": 17,
      "outputs": [
        {
          "output_type": "execute_result",
          "data": {
            "text/html": [
              "<div>\n",
              "<style scoped>\n",
              "    .dataframe tbody tr th:only-of-type {\n",
              "        vertical-align: middle;\n",
              "    }\n",
              "\n",
              "    .dataframe tbody tr th {\n",
              "        vertical-align: top;\n",
              "    }\n",
              "\n",
              "    .dataframe thead th {\n",
              "        text-align: right;\n",
              "    }\n",
              "</style>\n",
              "<table border=\"1\" class=\"dataframe\">\n",
              "  <thead>\n",
              "    <tr style=\"text-align: right;\">\n",
              "      <th></th>\n",
              "      <th>ingredient_type</th>\n",
              "      <th>farm_id</th>\n",
              "      <th>yield</th>\n",
              "    </tr>\n",
              "    <tr>\n",
              "      <th>ondate</th>\n",
              "      <th></th>\n",
              "      <th></th>\n",
              "      <th></th>\n",
              "    </tr>\n",
              "  </thead>\n",
              "  <tbody>\n",
              "    <tr>\n",
              "      <th>2016-01-01</th>\n",
              "      <td>ing_w</td>\n",
              "      <td>fid_100053</td>\n",
              "      <td>933.50</td>\n",
              "    </tr>\n",
              "    <tr>\n",
              "      <th>2016-01-01</th>\n",
              "      <td>ing_w</td>\n",
              "      <td>fid_100107</td>\n",
              "      <td>5001.16</td>\n",
              "    </tr>\n",
              "  </tbody>\n",
              "</table>\n",
              "</div>"
            ],
            "text/plain": [
              "           ingredient_type     farm_id    yield\n",
              "ondate                                         \n",
              "2016-01-01           ing_w  fid_100053   933.50\n",
              "2016-01-01           ing_w  fid_100107  5001.16"
            ]
          },
          "metadata": {
            "tags": []
          },
          "execution_count": 17
        }
      ]
    },
    {
      "cell_type": "code",
      "metadata": {
        "id": "g6GJts7CF8o-",
        "colab_type": "code",
        "colab": {}
      },
      "source": [
        ""
      ],
      "execution_count": 0,
      "outputs": []
    },
    {
      "cell_type": "code",
      "metadata": {
        "id": "hYwyNRHkofnS",
        "colab_type": "code",
        "colab": {}
      },
      "source": [
        ""
      ],
      "execution_count": 0,
      "outputs": []
    },
    {
      "cell_type": "code",
      "metadata": {
        "id": "TX_jdcOutYx9",
        "colab_type": "code",
        "outputId": "b3fc4b51-5ed8-4492-abc6-52aad524283a",
        "colab": {
          "base_uri": "https://localhost:8080/",
          "height": 359
        }
      },
      "source": [
        "traindata.head(10)"
      ],
      "execution_count": 18,
      "outputs": [
        {
          "output_type": "execute_result",
          "data": {
            "text/html": [
              "<div>\n",
              "<style scoped>\n",
              "    .dataframe tbody tr th:only-of-type {\n",
              "        vertical-align: middle;\n",
              "    }\n",
              "\n",
              "    .dataframe tbody tr th {\n",
              "        vertical-align: top;\n",
              "    }\n",
              "\n",
              "    .dataframe thead th {\n",
              "        text-align: right;\n",
              "    }\n",
              "</style>\n",
              "<table border=\"1\" class=\"dataframe\">\n",
              "  <thead>\n",
              "    <tr style=\"text-align: right;\">\n",
              "      <th></th>\n",
              "      <th>date</th>\n",
              "      <th>farm_id</th>\n",
              "      <th>ingredient_type</th>\n",
              "      <th>yield</th>\n",
              "      <th>ondate</th>\n",
              "    </tr>\n",
              "  </thead>\n",
              "  <tbody>\n",
              "    <tr>\n",
              "      <th>0</th>\n",
              "      <td>2016-01-01</td>\n",
              "      <td>fid_110884</td>\n",
              "      <td>ing_w</td>\n",
              "      <td>0.0</td>\n",
              "      <td>2016-01-01</td>\n",
              "    </tr>\n",
              "    <tr>\n",
              "      <th>1</th>\n",
              "      <td>2016-01-01</td>\n",
              "      <td>fid_90053</td>\n",
              "      <td>ing_w</td>\n",
              "      <td>0.0</td>\n",
              "      <td>2016-01-01</td>\n",
              "    </tr>\n",
              "    <tr>\n",
              "      <th>2</th>\n",
              "      <td>2016-01-01</td>\n",
              "      <td>fid_17537</td>\n",
              "      <td>ing_w</td>\n",
              "      <td>0.0</td>\n",
              "      <td>2016-01-01</td>\n",
              "    </tr>\n",
              "    <tr>\n",
              "      <th>3</th>\n",
              "      <td>2016-01-01</td>\n",
              "      <td>fid_110392</td>\n",
              "      <td>ing_w</td>\n",
              "      <td>0.0</td>\n",
              "      <td>2016-01-01</td>\n",
              "    </tr>\n",
              "    <tr>\n",
              "      <th>4</th>\n",
              "      <td>2016-01-01</td>\n",
              "      <td>fid_62402</td>\n",
              "      <td>ing_w</td>\n",
              "      <td>0.0</td>\n",
              "      <td>2016-01-01</td>\n",
              "    </tr>\n",
              "    <tr>\n",
              "      <th>5</th>\n",
              "      <td>2016-01-01</td>\n",
              "      <td>fid_121604</td>\n",
              "      <td>ing_w</td>\n",
              "      <td>0.0</td>\n",
              "      <td>2016-01-01</td>\n",
              "    </tr>\n",
              "    <tr>\n",
              "      <th>6</th>\n",
              "      <td>2016-01-01</td>\n",
              "      <td>fid_85694</td>\n",
              "      <td>ing_w</td>\n",
              "      <td>0.0</td>\n",
              "      <td>2016-01-01</td>\n",
              "    </tr>\n",
              "    <tr>\n",
              "      <th>7</th>\n",
              "      <td>2016-01-01</td>\n",
              "      <td>fid_33785</td>\n",
              "      <td>ing_w</td>\n",
              "      <td>0.0</td>\n",
              "      <td>2016-01-01</td>\n",
              "    </tr>\n",
              "    <tr>\n",
              "      <th>8</th>\n",
              "      <td>2016-01-01</td>\n",
              "      <td>fid_110793</td>\n",
              "      <td>ing_w</td>\n",
              "      <td>0.0</td>\n",
              "      <td>2016-01-01</td>\n",
              "    </tr>\n",
              "    <tr>\n",
              "      <th>9</th>\n",
              "      <td>2016-01-01</td>\n",
              "      <td>fid_32954</td>\n",
              "      <td>ing_w</td>\n",
              "      <td>0.0</td>\n",
              "      <td>2016-01-01</td>\n",
              "    </tr>\n",
              "  </tbody>\n",
              "</table>\n",
              "</div>"
            ],
            "text/plain": [
              "        date     farm_id ingredient_type  yield      ondate\n",
              "0 2016-01-01  fid_110884           ing_w    0.0  2016-01-01\n",
              "1 2016-01-01   fid_90053           ing_w    0.0  2016-01-01\n",
              "2 2016-01-01   fid_17537           ing_w    0.0  2016-01-01\n",
              "3 2016-01-01  fid_110392           ing_w    0.0  2016-01-01\n",
              "4 2016-01-01   fid_62402           ing_w    0.0  2016-01-01\n",
              "5 2016-01-01  fid_121604           ing_w    0.0  2016-01-01\n",
              "6 2016-01-01   fid_85694           ing_w    0.0  2016-01-01\n",
              "7 2016-01-01   fid_33785           ing_w    0.0  2016-01-01\n",
              "8 2016-01-01  fid_110793           ing_w    0.0  2016-01-01\n",
              "9 2016-01-01   fid_32954           ing_w    0.0  2016-01-01"
            ]
          },
          "metadata": {
            "tags": []
          },
          "execution_count": 18
        }
      ]
    },
    {
      "cell_type": "code",
      "metadata": {
        "id": "z8aYd2R8LG7P",
        "colab_type": "code",
        "outputId": "1b8d58f8-be57-4c93-f860-ecb75da29fe8",
        "colab": {
          "base_uri": "https://localhost:8080/",
          "height": 235
        }
      },
      "source": [
        "dateindex.head(5)"
      ],
      "execution_count": 19,
      "outputs": [
        {
          "output_type": "execute_result",
          "data": {
            "text/html": [
              "<div>\n",
              "<style scoped>\n",
              "    .dataframe tbody tr th:only-of-type {\n",
              "        vertical-align: middle;\n",
              "    }\n",
              "\n",
              "    .dataframe tbody tr th {\n",
              "        vertical-align: top;\n",
              "    }\n",
              "\n",
              "    .dataframe thead th {\n",
              "        text-align: right;\n",
              "    }\n",
              "</style>\n",
              "<table border=\"1\" class=\"dataframe\">\n",
              "  <thead>\n",
              "    <tr style=\"text-align: right;\">\n",
              "      <th></th>\n",
              "      <th>ingredient_type</th>\n",
              "      <th>farm_id</th>\n",
              "      <th>yield</th>\n",
              "    </tr>\n",
              "    <tr>\n",
              "      <th>ondate</th>\n",
              "      <th></th>\n",
              "      <th></th>\n",
              "      <th></th>\n",
              "    </tr>\n",
              "  </thead>\n",
              "  <tbody>\n",
              "    <tr>\n",
              "      <th>2016-01-01</th>\n",
              "      <td>ing_w</td>\n",
              "      <td>fid_100053</td>\n",
              "      <td>933.50</td>\n",
              "    </tr>\n",
              "    <tr>\n",
              "      <th>2016-01-01</th>\n",
              "      <td>ing_w</td>\n",
              "      <td>fid_100107</td>\n",
              "      <td>5001.16</td>\n",
              "    </tr>\n",
              "    <tr>\n",
              "      <th>2016-01-01</th>\n",
              "      <td>ing_w</td>\n",
              "      <td>fid_100135</td>\n",
              "      <td>620.92</td>\n",
              "    </tr>\n",
              "    <tr>\n",
              "      <th>2016-01-01</th>\n",
              "      <td>ing_w</td>\n",
              "      <td>fid_100249</td>\n",
              "      <td>338.73</td>\n",
              "    </tr>\n",
              "    <tr>\n",
              "      <th>2016-01-01</th>\n",
              "      <td>ing_w</td>\n",
              "      <td>fid_100303</td>\n",
              "      <td>953.26</td>\n",
              "    </tr>\n",
              "  </tbody>\n",
              "</table>\n",
              "</div>"
            ],
            "text/plain": [
              "           ingredient_type     farm_id    yield\n",
              "ondate                                         \n",
              "2016-01-01           ing_w  fid_100053   933.50\n",
              "2016-01-01           ing_w  fid_100107  5001.16\n",
              "2016-01-01           ing_w  fid_100135   620.92\n",
              "2016-01-01           ing_w  fid_100249   338.73\n",
              "2016-01-01           ing_w  fid_100303   953.26"
            ]
          },
          "metadata": {
            "tags": []
          },
          "execution_count": 19
        }
      ]
    },
    {
      "cell_type": "code",
      "metadata": {
        "id": "RoTqzbHVK_dM",
        "colab_type": "code",
        "colab": {}
      },
      "source": [
        ""
      ],
      "execution_count": 0,
      "outputs": []
    },
    {
      "cell_type": "code",
      "metadata": {
        "id": "B3UT3P7r34sH",
        "colab_type": "code",
        "colab": {}
      },
      "source": [
        "trdata=traindata.groupby(['ondate','ingredient_type','farm_id'])['yield'].sum().reset_index()"
      ],
      "execution_count": 0,
      "outputs": []
    },
    {
      "cell_type": "code",
      "metadata": {
        "id": "1nl0MolrFjzE",
        "colab_type": "code",
        "colab": {}
      },
      "source": [
        "#trdata.to_csv('newtrdata.csv')"
      ],
      "execution_count": 0,
      "outputs": []
    },
    {
      "cell_type": "code",
      "metadata": {
        "id": "PZ7Dcsni4RT5",
        "colab_type": "code",
        "outputId": "fa56de36-4a27-454c-c621-1db27b9224f3",
        "colab": {
          "base_uri": "https://localhost:8080/",
          "height": 359
        }
      },
      "source": [
        "trdata.head(10)"
      ],
      "execution_count": 22,
      "outputs": [
        {
          "output_type": "execute_result",
          "data": {
            "text/html": [
              "<div>\n",
              "<style scoped>\n",
              "    .dataframe tbody tr th:only-of-type {\n",
              "        vertical-align: middle;\n",
              "    }\n",
              "\n",
              "    .dataframe tbody tr th {\n",
              "        vertical-align: top;\n",
              "    }\n",
              "\n",
              "    .dataframe thead th {\n",
              "        text-align: right;\n",
              "    }\n",
              "</style>\n",
              "<table border=\"1\" class=\"dataframe\">\n",
              "  <thead>\n",
              "    <tr style=\"text-align: right;\">\n",
              "      <th></th>\n",
              "      <th>ondate</th>\n",
              "      <th>ingredient_type</th>\n",
              "      <th>farm_id</th>\n",
              "      <th>yield</th>\n",
              "    </tr>\n",
              "  </thead>\n",
              "  <tbody>\n",
              "    <tr>\n",
              "      <th>0</th>\n",
              "      <td>2016-01-01</td>\n",
              "      <td>ing_w</td>\n",
              "      <td>fid_100053</td>\n",
              "      <td>933.5000</td>\n",
              "    </tr>\n",
              "    <tr>\n",
              "      <th>1</th>\n",
              "      <td>2016-01-01</td>\n",
              "      <td>ing_w</td>\n",
              "      <td>fid_100107</td>\n",
              "      <td>5001.1600</td>\n",
              "    </tr>\n",
              "    <tr>\n",
              "      <th>2</th>\n",
              "      <td>2016-01-01</td>\n",
              "      <td>ing_w</td>\n",
              "      <td>fid_100135</td>\n",
              "      <td>620.9200</td>\n",
              "    </tr>\n",
              "    <tr>\n",
              "      <th>3</th>\n",
              "      <td>2016-01-01</td>\n",
              "      <td>ing_w</td>\n",
              "      <td>fid_100249</td>\n",
              "      <td>338.7300</td>\n",
              "    </tr>\n",
              "    <tr>\n",
              "      <th>4</th>\n",
              "      <td>2016-01-01</td>\n",
              "      <td>ing_w</td>\n",
              "      <td>fid_100303</td>\n",
              "      <td>953.2600</td>\n",
              "    </tr>\n",
              "    <tr>\n",
              "      <th>5</th>\n",
              "      <td>2016-01-01</td>\n",
              "      <td>ing_w</td>\n",
              "      <td>fid_100594</td>\n",
              "      <td>841.0008</td>\n",
              "    </tr>\n",
              "    <tr>\n",
              "      <th>6</th>\n",
              "      <td>2016-01-01</td>\n",
              "      <td>ing_w</td>\n",
              "      <td>fid_100672</td>\n",
              "      <td>6261.6000</td>\n",
              "    </tr>\n",
              "    <tr>\n",
              "      <th>7</th>\n",
              "      <td>2016-01-01</td>\n",
              "      <td>ing_w</td>\n",
              "      <td>fid_100807</td>\n",
              "      <td>0.0000</td>\n",
              "    </tr>\n",
              "    <tr>\n",
              "      <th>8</th>\n",
              "      <td>2016-01-01</td>\n",
              "      <td>ing_w</td>\n",
              "      <td>fid_100952</td>\n",
              "      <td>1382.0000</td>\n",
              "    </tr>\n",
              "    <tr>\n",
              "      <th>9</th>\n",
              "      <td>2016-01-01</td>\n",
              "      <td>ing_w</td>\n",
              "      <td>fid_100954</td>\n",
              "      <td>0.0000</td>\n",
              "    </tr>\n",
              "  </tbody>\n",
              "</table>\n",
              "</div>"
            ],
            "text/plain": [
              "       ondate ingredient_type     farm_id      yield\n",
              "0  2016-01-01           ing_w  fid_100053   933.5000\n",
              "1  2016-01-01           ing_w  fid_100107  5001.1600\n",
              "2  2016-01-01           ing_w  fid_100135   620.9200\n",
              "3  2016-01-01           ing_w  fid_100249   338.7300\n",
              "4  2016-01-01           ing_w  fid_100303   953.2600\n",
              "5  2016-01-01           ing_w  fid_100594   841.0008\n",
              "6  2016-01-01           ing_w  fid_100672  6261.6000\n",
              "7  2016-01-01           ing_w  fid_100807     0.0000\n",
              "8  2016-01-01           ing_w  fid_100952  1382.0000\n",
              "9  2016-01-01           ing_w  fid_100954     0.0000"
            ]
          },
          "metadata": {
            "tags": []
          },
          "execution_count": 22
        }
      ]
    },
    {
      "cell_type": "code",
      "metadata": {
        "id": "wvkWdgjf-RAJ",
        "colab_type": "code",
        "colab": {}
      },
      "source": [
        "trdata['ondate'] = pd.to_datetime(traindata['ondate'])"
      ],
      "execution_count": 0,
      "outputs": []
    },
    {
      "cell_type": "code",
      "metadata": {
        "id": "22F-WN0C-eOV",
        "colab_type": "code",
        "colab": {}
      },
      "source": [
        "trdata['month'] = trdata['ondate'].dt.month"
      ],
      "execution_count": 0,
      "outputs": []
    },
    {
      "cell_type": "code",
      "metadata": {
        "id": "toUr47YNAscM",
        "colab_type": "code",
        "colab": {
          "base_uri": "https://localhost:8080/",
          "height": 173
        },
        "outputId": "aa7382c2-4810-4cb8-e7b7-6eb8729acf8b"
      },
      "source": [
        "trdata.groupby(['month','ingredient_type'])['yield'].sum().reset_index()"
      ],
      "execution_count": 25,
      "outputs": [
        {
          "output_type": "execute_result",
          "data": {
            "text/html": [
              "<div>\n",
              "<style scoped>\n",
              "    .dataframe tbody tr th:only-of-type {\n",
              "        vertical-align: middle;\n",
              "    }\n",
              "\n",
              "    .dataframe tbody tr th {\n",
              "        vertical-align: top;\n",
              "    }\n",
              "\n",
              "    .dataframe thead th {\n",
              "        text-align: right;\n",
              "    }\n",
              "</style>\n",
              "<table border=\"1\" class=\"dataframe\">\n",
              "  <thead>\n",
              "    <tr style=\"text-align: right;\">\n",
              "      <th></th>\n",
              "      <th>month</th>\n",
              "      <th>ingredient_type</th>\n",
              "      <th>yield</th>\n",
              "    </tr>\n",
              "  </thead>\n",
              "  <tbody>\n",
              "    <tr>\n",
              "      <th>0</th>\n",
              "      <td>1</td>\n",
              "      <td>ing_w</td>\n",
              "      <td>2.060313e+09</td>\n",
              "    </tr>\n",
              "    <tr>\n",
              "      <th>1</th>\n",
              "      <td>1</td>\n",
              "      <td>ing_x</td>\n",
              "      <td>2.649007e+09</td>\n",
              "    </tr>\n",
              "    <tr>\n",
              "      <th>2</th>\n",
              "      <td>1</td>\n",
              "      <td>ing_y</td>\n",
              "      <td>3.760286e+10</td>\n",
              "    </tr>\n",
              "    <tr>\n",
              "      <th>3</th>\n",
              "      <td>1</td>\n",
              "      <td>ing_z</td>\n",
              "      <td>4.877499e+08</td>\n",
              "    </tr>\n",
              "  </tbody>\n",
              "</table>\n",
              "</div>"
            ],
            "text/plain": [
              "   month ingredient_type         yield\n",
              "0      1           ing_w  2.060313e+09\n",
              "1      1           ing_x  2.649007e+09\n",
              "2      1           ing_y  3.760286e+10\n",
              "3      1           ing_z  4.877499e+08"
            ]
          },
          "metadata": {
            "tags": []
          },
          "execution_count": 25
        }
      ]
    },
    {
      "cell_type": "code",
      "metadata": {
        "id": "OT_Te25U-sGf",
        "colab_type": "code",
        "colab": {
          "base_uri": "https://localhost:8080/",
          "height": 419
        },
        "outputId": "8cebeafe-0143-4ecc-9e15-3578b2cda9a8"
      },
      "source": [
        "trdata.groupby(['ondate','ingredient_type'])['yield'].sum().reset_index()"
      ],
      "execution_count": 26,
      "outputs": [
        {
          "output_type": "execute_result",
          "data": {
            "text/html": [
              "<div>\n",
              "<style scoped>\n",
              "    .dataframe tbody tr th:only-of-type {\n",
              "        vertical-align: middle;\n",
              "    }\n",
              "\n",
              "    .dataframe tbody tr th {\n",
              "        vertical-align: top;\n",
              "    }\n",
              "\n",
              "    .dataframe thead th {\n",
              "        text-align: right;\n",
              "    }\n",
              "</style>\n",
              "<table border=\"1\" class=\"dataframe\">\n",
              "  <thead>\n",
              "    <tr style=\"text-align: right;\">\n",
              "      <th></th>\n",
              "      <th>ondate</th>\n",
              "      <th>ingredient_type</th>\n",
              "      <th>yield</th>\n",
              "    </tr>\n",
              "  </thead>\n",
              "  <tbody>\n",
              "    <tr>\n",
              "      <th>0</th>\n",
              "      <td>2016-01-01</td>\n",
              "      <td>ing_w</td>\n",
              "      <td>1.190537e+08</td>\n",
              "    </tr>\n",
              "    <tr>\n",
              "      <th>1</th>\n",
              "      <td>2016-01-01</td>\n",
              "      <td>ing_x</td>\n",
              "      <td>3.832326e+07</td>\n",
              "    </tr>\n",
              "    <tr>\n",
              "      <th>2</th>\n",
              "      <td>2016-01-01</td>\n",
              "      <td>ing_y</td>\n",
              "      <td>1.410445e+09</td>\n",
              "    </tr>\n",
              "    <tr>\n",
              "      <th>3</th>\n",
              "      <td>2016-01-01</td>\n",
              "      <td>ing_z</td>\n",
              "      <td>5.582541e+07</td>\n",
              "    </tr>\n",
              "    <tr>\n",
              "      <th>4</th>\n",
              "      <td>2016-01-02</td>\n",
              "      <td>ing_w</td>\n",
              "      <td>1.257295e+08</td>\n",
              "    </tr>\n",
              "    <tr>\n",
              "      <th>...</th>\n",
              "      <td>...</td>\n",
              "      <td>...</td>\n",
              "      <td>...</td>\n",
              "    </tr>\n",
              "    <tr>\n",
              "      <th>59</th>\n",
              "      <td>2016-01-15</td>\n",
              "      <td>ing_z</td>\n",
              "      <td>5.310727e+07</td>\n",
              "    </tr>\n",
              "    <tr>\n",
              "      <th>60</th>\n",
              "      <td>2016-01-16</td>\n",
              "      <td>ing_w</td>\n",
              "      <td>3.223515e+07</td>\n",
              "    </tr>\n",
              "    <tr>\n",
              "      <th>61</th>\n",
              "      <td>2016-01-16</td>\n",
              "      <td>ing_x</td>\n",
              "      <td>1.614870e+07</td>\n",
              "    </tr>\n",
              "    <tr>\n",
              "      <th>62</th>\n",
              "      <td>2016-01-16</td>\n",
              "      <td>ing_y</td>\n",
              "      <td>1.031791e+08</td>\n",
              "    </tr>\n",
              "    <tr>\n",
              "      <th>63</th>\n",
              "      <td>2016-01-16</td>\n",
              "      <td>ing_z</td>\n",
              "      <td>1.395611e+07</td>\n",
              "    </tr>\n",
              "  </tbody>\n",
              "</table>\n",
              "<p>64 rows × 3 columns</p>\n",
              "</div>"
            ],
            "text/plain": [
              "       ondate ingredient_type         yield\n",
              "0  2016-01-01           ing_w  1.190537e+08\n",
              "1  2016-01-01           ing_x  3.832326e+07\n",
              "2  2016-01-01           ing_y  1.410445e+09\n",
              "3  2016-01-01           ing_z  5.582541e+07\n",
              "4  2016-01-02           ing_w  1.257295e+08\n",
              "..        ...             ...           ...\n",
              "59 2016-01-15           ing_z  5.310727e+07\n",
              "60 2016-01-16           ing_w  3.223515e+07\n",
              "61 2016-01-16           ing_x  1.614870e+07\n",
              "62 2016-01-16           ing_y  1.031791e+08\n",
              "63 2016-01-16           ing_z  1.395611e+07\n",
              "\n",
              "[64 rows x 3 columns]"
            ]
          },
          "metadata": {
            "tags": []
          },
          "execution_count": 26
        }
      ]
    },
    {
      "cell_type": "code",
      "metadata": {
        "id": "WeLwGVvhAHuy",
        "colab_type": "code",
        "colab": {
          "base_uri": "https://localhost:8080/",
          "height": 429
        },
        "outputId": "0ad6a32f-f604-46b8-8921-cce19e72430d"
      },
      "source": [
        "sns.lineplot(x='ondate',y='yield',data=trdata.groupby(['ondate','ingredient_type'])['yield'].sum().reset_index())"
      ],
      "execution_count": 27,
      "outputs": [
        {
          "output_type": "stream",
          "text": [
            "/usr/local/lib/python3.6/dist-packages/pandas/plotting/_matplotlib/converter.py:103: FutureWarning: Using an implicitly registered datetime converter for a matplotlib plotting method. The converter was registered by pandas on import. Future versions of pandas will require you to explicitly register matplotlib converters.\n",
            "\n",
            "To register the converters:\n",
            "\t>>> from pandas.plotting import register_matplotlib_converters\n",
            "\t>>> register_matplotlib_converters()\n",
            "  warnings.warn(msg, FutureWarning)\n"
          ],
          "name": "stderr"
        },
        {
          "output_type": "execute_result",
          "data": {
            "text/plain": [
              "<matplotlib.axes._subplots.AxesSubplot at 0x7f9df2013400>"
            ]
          },
          "metadata": {
            "tags": []
          },
          "execution_count": 27
        },
        {
          "output_type": "display_data",
          "data": {
            "image/png": "[encoded data removed]",
            "text/plain": [
              "<Figure size 432x288 with 1 Axes>"
            ]
          },
          "metadata": {
            "tags": []
          }
        }
      ]
    },
    {
      "cell_type": "code",
      "metadata": {
        "id": "4hmY6Ph6AHp-",
        "colab_type": "code",
        "colab": {
          "base_uri": "https://localhost:8080/",
          "height": 307
        },
        "outputId": "529152e6-575f-45fd-af6a-8f95d911657a"
      },
      "source": [
        "sns.lineplot(x='month',y='yield',data=trdata.groupby(['month','ingredient_type'])['yield'].sum().reset_index())"
      ],
      "execution_count": 28,
      "outputs": [
        {
          "output_type": "execute_result",
          "data": {
            "text/plain": [
              "<matplotlib.axes._subplots.AxesSubplot at 0x7f9db795e8d0>"
            ]
          },
          "metadata": {
            "tags": []
          },
          "execution_count": 28
        },
        {
          "output_type": "display_data",
          "data": {
            "image/png": "[encoded data removed]",
            "text/plain": [
              "<Figure size 432x288 with 1 Axes>"
            ]
          },
          "metadata": {
            "tags": []
          }
        }
      ]
    },
    {
      "cell_type": "code",
      "metadata": {
        "id": "dEVysfeJBV8K",
        "colab_type": "code",
        "colab": {}
      },
      "source": [
        ""
      ],
      "execution_count": 0,
      "outputs": []
    },
    {
      "cell_type": "code",
      "metadata": {
        "id": "K3GBLlcZWSiP",
        "colab_type": "code",
        "outputId": "67523319-db8f-47ef-f978-6e48ae26977d",
        "colab": {
          "base_uri": "https://localhost:8080/",
          "height": 419
        }
      },
      "source": [
        "trdata.loc[trdata['ingredient_type']=='ing_w']"
      ],
      "execution_count": 29,
      "outputs": [
        {
          "output_type": "execute_result",
          "data": {
            "text/html": [
              "<div>\n",
              "<style scoped>\n",
              "    .dataframe tbody tr th:only-of-type {\n",
              "        vertical-align: middle;\n",
              "    }\n",
              "\n",
              "    .dataframe tbody tr th {\n",
              "        vertical-align: top;\n",
              "    }\n",
              "\n",
              "    .dataframe thead th {\n",
              "        text-align: right;\n",
              "    }\n",
              "</style>\n",
              "<table border=\"1\" class=\"dataframe\">\n",
              "  <thead>\n",
              "    <tr style=\"text-align: right;\">\n",
              "      <th></th>\n",
              "      <th>ondate</th>\n",
              "      <th>ingredient_type</th>\n",
              "      <th>farm_id</th>\n",
              "      <th>yield</th>\n",
              "      <th>month</th>\n",
              "    </tr>\n",
              "  </thead>\n",
              "  <tbody>\n",
              "    <tr>\n",
              "      <th>0</th>\n",
              "      <td>2016-01-01</td>\n",
              "      <td>ing_w</td>\n",
              "      <td>fid_100053</td>\n",
              "      <td>933.500</td>\n",
              "      <td>1</td>\n",
              "    </tr>\n",
              "    <tr>\n",
              "      <th>1</th>\n",
              "      <td>2016-01-01</td>\n",
              "      <td>ing_w</td>\n",
              "      <td>fid_100107</td>\n",
              "      <td>5001.160</td>\n",
              "      <td>1</td>\n",
              "    </tr>\n",
              "    <tr>\n",
              "      <th>2</th>\n",
              "      <td>2016-01-01</td>\n",
              "      <td>ing_w</td>\n",
              "      <td>fid_100135</td>\n",
              "      <td>620.920</td>\n",
              "      <td>1</td>\n",
              "    </tr>\n",
              "    <tr>\n",
              "      <th>3</th>\n",
              "      <td>2016-01-01</td>\n",
              "      <td>ing_w</td>\n",
              "      <td>fid_100249</td>\n",
              "      <td>338.730</td>\n",
              "      <td>1</td>\n",
              "    </tr>\n",
              "    <tr>\n",
              "      <th>4</th>\n",
              "      <td>2016-01-01</td>\n",
              "      <td>ing_w</td>\n",
              "      <td>fid_100303</td>\n",
              "      <td>953.260</td>\n",
              "      <td>1</td>\n",
              "    </tr>\n",
              "    <tr>\n",
              "      <th>...</th>\n",
              "      <td>...</td>\n",
              "      <td>...</td>\n",
              "      <td>...</td>\n",
              "      <td>...</td>\n",
              "      <td>...</td>\n",
              "    </tr>\n",
              "    <tr>\n",
              "      <th>838950</th>\n",
              "      <td>2016-01-16</td>\n",
              "      <td>ing_w</td>\n",
              "      <td>fid_99437</td>\n",
              "      <td>406.750</td>\n",
              "      <td>1</td>\n",
              "    </tr>\n",
              "    <tr>\n",
              "      <th>838951</th>\n",
              "      <td>2016-01-16</td>\n",
              "      <td>ing_w</td>\n",
              "      <td>fid_99482</td>\n",
              "      <td>2420.320</td>\n",
              "      <td>1</td>\n",
              "    </tr>\n",
              "    <tr>\n",
              "      <th>838952</th>\n",
              "      <td>2016-01-16</td>\n",
              "      <td>ing_w</td>\n",
              "      <td>fid_99826</td>\n",
              "      <td>134.395</td>\n",
              "      <td>1</td>\n",
              "    </tr>\n",
              "    <tr>\n",
              "      <th>838953</th>\n",
              "      <td>2016-01-16</td>\n",
              "      <td>ing_w</td>\n",
              "      <td>fid_99921</td>\n",
              "      <td>3166.280</td>\n",
              "      <td>1</td>\n",
              "    </tr>\n",
              "    <tr>\n",
              "      <th>838954</th>\n",
              "      <td>2016-01-16</td>\n",
              "      <td>ing_w</td>\n",
              "      <td>fid_99942</td>\n",
              "      <td>3241.750</td>\n",
              "      <td>1</td>\n",
              "    </tr>\n",
              "  </tbody>\n",
              "</table>\n",
              "<p>498759 rows × 5 columns</p>\n",
              "</div>"
            ],
            "text/plain": [
              "           ondate ingredient_type     farm_id     yield  month\n",
              "0      2016-01-01           ing_w  fid_100053   933.500      1\n",
              "1      2016-01-01           ing_w  fid_100107  5001.160      1\n",
              "2      2016-01-01           ing_w  fid_100135   620.920      1\n",
              "3      2016-01-01           ing_w  fid_100249   338.730      1\n",
              "4      2016-01-01           ing_w  fid_100303   953.260      1\n",
              "...           ...             ...         ...       ...    ...\n",
              "838950 2016-01-16           ing_w   fid_99437   406.750      1\n",
              "838951 2016-01-16           ing_w   fid_99482  2420.320      1\n",
              "838952 2016-01-16           ing_w   fid_99826   134.395      1\n",
              "838953 2016-01-16           ing_w   fid_99921  3166.280      1\n",
              "838954 2016-01-16           ing_w   fid_99942  3241.750      1\n",
              "\n",
              "[498759 rows x 5 columns]"
            ]
          },
          "metadata": {
            "tags": []
          },
          "execution_count": 29
        }
      ]
    },
    {
      "cell_type": "code",
      "metadata": {
        "id": "MzMRDUi_qlFv",
        "colab_type": "code",
        "outputId": "c5d821bd-2670-44b1-8cdc-1d1e223183cb",
        "colab": {
          "base_uri": "https://localhost:8080/",
          "height": 221
        }
      },
      "source": [
        "\n",
        "trdata.farm_id.value_counts()"
      ],
      "execution_count": 30,
      "outputs": [
        {
          "output_type": "execute_result",
          "data": {
            "text/plain": [
              "fid_77519     1464\n",
              "fid_63700     1464\n",
              "fid_109814    1464\n",
              "fid_117459    1464\n",
              "fid_103446    1464\n",
              "              ... \n",
              "fid_60652      111\n",
              "fid_20058      109\n",
              "fid_73322      102\n",
              "fid_118770      97\n",
              "fid_19864       20\n",
              "Name: farm_id, Length: 1434, dtype: int64"
            ]
          },
          "metadata": {
            "tags": []
          },
          "execution_count": 30
        }
      ]
    },
    {
      "cell_type": "code",
      "metadata": {
        "id": "JOor2ulEc4Aw",
        "colab_type": "code",
        "outputId": "dd3df16c-a764-45a5-e027-c09866d12322",
        "colab": {
          "base_uri": "https://localhost:8080/",
          "height": 34
        }
      },
      "source": [
        "trdata.shape"
      ],
      "execution_count": 31,
      "outputs": [
        {
          "output_type": "execute_result",
          "data": {
            "text/plain": [
              "(839918, 5)"
            ]
          },
          "metadata": {
            "tags": []
          },
          "execution_count": 31
        }
      ]
    },
    {
      "cell_type": "code",
      "metadata": {
        "id": "fnqYUKw79Sfx",
        "colab_type": "code",
        "colab": {}
      },
      "source": [
        "farmerid=pd.read_csv('/content/drive/My Drive/farm_data.csv')"
      ],
      "execution_count": 0,
      "outputs": []
    },
    {
      "cell_type": "code",
      "metadata": {
        "id": "nfuY6g33BhOZ",
        "colab_type": "code",
        "outputId": "c769fe1b-cbe0-4fc0-e52c-e672541ea393",
        "colab": {
          "base_uri": "https://localhost:8080/",
          "height": 204
        }
      },
      "source": [
        "farmerid.head(5)"
      ],
      "execution_count": 33,
      "outputs": [
        {
          "output_type": "execute_result",
          "data": {
            "text/html": [
              "<div>\n",
              "<style scoped>\n",
              "    .dataframe tbody tr th:only-of-type {\n",
              "        vertical-align: middle;\n",
              "    }\n",
              "\n",
              "    .dataframe tbody tr th {\n",
              "        vertical-align: top;\n",
              "    }\n",
              "\n",
              "    .dataframe thead th {\n",
              "        text-align: right;\n",
              "    }\n",
              "</style>\n",
              "<table border=\"1\" class=\"dataframe\">\n",
              "  <thead>\n",
              "    <tr style=\"text-align: right;\">\n",
              "      <th></th>\n",
              "      <th>farm_id</th>\n",
              "      <th>operations_commencing_year</th>\n",
              "      <th>num_processing_plants</th>\n",
              "      <th>farm_area</th>\n",
              "      <th>farming_company</th>\n",
              "      <th>deidentified_location</th>\n",
              "    </tr>\n",
              "  </thead>\n",
              "  <tbody>\n",
              "    <tr>\n",
              "      <th>0</th>\n",
              "      <td>fid_110884</td>\n",
              "      <td>2008.0</td>\n",
              "      <td>NaN</td>\n",
              "      <td>690.455096</td>\n",
              "      <td>Obery Farms</td>\n",
              "      <td>location 7369</td>\n",
              "    </tr>\n",
              "    <tr>\n",
              "      <th>1</th>\n",
              "      <td>fid_90053</td>\n",
              "      <td>2004.0</td>\n",
              "      <td>NaN</td>\n",
              "      <td>252.696160</td>\n",
              "      <td>Obery Farms</td>\n",
              "      <td>location 7369</td>\n",
              "    </tr>\n",
              "    <tr>\n",
              "      <th>2</th>\n",
              "      <td>fid_17537</td>\n",
              "      <td>1991.0</td>\n",
              "      <td>NaN</td>\n",
              "      <td>499.446528</td>\n",
              "      <td>Obery Farms</td>\n",
              "      <td>location 7369</td>\n",
              "    </tr>\n",
              "    <tr>\n",
              "      <th>3</th>\n",
              "      <td>fid_110392</td>\n",
              "      <td>2002.0</td>\n",
              "      <td>NaN</td>\n",
              "      <td>2200.407555</td>\n",
              "      <td>Obery Farms</td>\n",
              "      <td>location 7369</td>\n",
              "    </tr>\n",
              "    <tr>\n",
              "      <th>4</th>\n",
              "      <td>fid_62402</td>\n",
              "      <td>1975.0</td>\n",
              "      <td>NaN</td>\n",
              "      <td>10833.140121</td>\n",
              "      <td>Obery Farms</td>\n",
              "      <td>location 7369</td>\n",
              "    </tr>\n",
              "  </tbody>\n",
              "</table>\n",
              "</div>"
            ],
            "text/plain": [
              "      farm_id  operations_commencing_year  ...  farming_company  deidentified_location\n",
              "0  fid_110884                      2008.0  ...      Obery Farms          location 7369\n",
              "1   fid_90053                      2004.0  ...      Obery Farms          location 7369\n",
              "2   fid_17537                      1991.0  ...      Obery Farms          location 7369\n",
              "3  fid_110392                      2002.0  ...      Obery Farms          location 7369\n",
              "4   fid_62402                      1975.0  ...      Obery Farms          location 7369\n",
              "\n",
              "[5 rows x 6 columns]"
            ]
          },
          "metadata": {
            "tags": []
          },
          "execution_count": 33
        }
      ]
    },
    {
      "cell_type": "code",
      "metadata": {
        "id": "SGBDbzjuBmc0",
        "colab_type": "code",
        "colab": {
          "base_uri": "https://localhost:8080/",
          "height": 895
        },
        "outputId": "a5ab8e87-f61d-45e1-a756-d046e45eae04"
      },
      "source": [
        "import matplotlib.pyplot as plt\n",
        "import seaborn as sns\n",
        "print(farmerid['deidentified_location'].value_counts())\n",
        "plt.figure(figsize=(15,10) )\n",
        "sns.countplot(farmerid['deidentified_location'])\n",
        "plt.show()"
      ],
      "execution_count": 34,
      "outputs": [
        {
          "output_type": "stream",
          "text": [
            "location 5290    274\n",
            "location 2532    154\n",
            "location 5489    135\n",
            "location 8421    124\n",
            "location 5150    124\n",
            "location 7369    105\n",
            "location 5410    102\n",
            "location 5833     91\n",
            "location 6364     89\n",
            "location 5677     70\n",
            "location 959      51\n",
            "location 565      44\n",
            "location 7048     36\n",
            "location 1784     30\n",
            "location 4525     15\n",
            "location 868       5\n",
            "Name: deidentified_location, dtype: int64\n"
          ],
          "name": "stdout"
        },
        {
          "output_type": "display_data",
          "data": {
            "image/png": "[encoded data removed]",
            "text/plain": [
              "<Figure size 1080x720 with 1 Axes>"
            ]
          },
          "metadata": {
            "tags": []
          }
        }
      ]
    },
    {
      "cell_type": "code",
      "metadata": {
        "id": "fj7kakS9CDAE",
        "colab_type": "code",
        "colab": {
          "base_uri": "https://localhost:8080/",
          "height": 895
        },
        "outputId": "cd5c2f3b-5291-4a3d-c41c-37c807da516c"
      },
      "source": [
        "import matplotlib.pyplot as plt\n",
        "import seaborn as sns\n",
        "print(farmerid['farming_company'].value_counts())\n",
        "plt.figure(figsize=(15,10))\n",
        "sns.countplot(farmerid['farming_company'])\n",
        "plt.show()"
      ],
      "execution_count": 35,
      "outputs": [
        {
          "output_type": "stream",
          "text": [
            "Obery Farms                            549\n",
            "Wayne Farms                            279\n",
            "Sanderson Farms                        184\n",
            "Del Monte Foods                        156\n",
            "Dole Food Company                      147\n",
            "Other                                   25\n",
            "Foster Farms                            23\n",
            "Freight Farms                           22\n",
            "Mountaire Farms                         13\n",
            "Monogram Foods                          12\n",
            "Tyson Foods                             11\n",
            "Northland Organic Foods Corporation     10\n",
            "West Liberty Foods                       6\n",
            "Perdue Farms                             5\n",
            "Kansas Ville Farms                       4\n",
            "Southern Confederate Farms               3\n",
            "Name: farming_company, dtype: int64\n"
          ],
          "name": "stdout"
        },
        {
          "output_type": "display_data",
          "data": {
            "image/png": "[encoded data removed]",
            "text/plain": [
              "<Figure size 1080x720 with 1 Axes>"
            ]
          },
          "metadata": {
            "tags": []
          }
        }
      ]
    },
    {
      "cell_type": "code",
      "metadata": {
        "id": "ys1_cTJw97VT",
        "colab_type": "code",
        "colab": {}
      },
      "source": [
        "whetherdata=pd.read_csv('/content/drive/My Drive/train_weather.csv')"
      ],
      "execution_count": 0,
      "outputs": []
    },
    {
      "cell_type": "code",
      "metadata": {
        "id": "zf5WyLDk7tIr",
        "colab_type": "code",
        "outputId": "47107593-d94a-4647-d782-09380e55ee1e",
        "colab": {
          "base_uri": "https://localhost:8080/",
          "height": 204
        }
      },
      "source": [
        "whetherdata.head(5)"
      ],
      "execution_count": 37,
      "outputs": [
        {
          "output_type": "execute_result",
          "data": {
            "text/html": [
              "<div>\n",
              "<style scoped>\n",
              "    .dataframe tbody tr th:only-of-type {\n",
              "        vertical-align: middle;\n",
              "    }\n",
              "\n",
              "    .dataframe tbody tr th {\n",
              "        vertical-align: top;\n",
              "    }\n",
              "\n",
              "    .dataframe thead th {\n",
              "        text-align: right;\n",
              "    }\n",
              "</style>\n",
              "<table border=\"1\" class=\"dataframe\">\n",
              "  <thead>\n",
              "    <tr style=\"text-align: right;\">\n",
              "      <th></th>\n",
              "      <th>timestamp</th>\n",
              "      <th>deidentified_location</th>\n",
              "      <th>temp_obs</th>\n",
              "      <th>cloudiness</th>\n",
              "      <th>wind_direction</th>\n",
              "      <th>dew_temp</th>\n",
              "      <th>pressure_sea_level</th>\n",
              "      <th>precipitation</th>\n",
              "      <th>wind_speed</th>\n",
              "    </tr>\n",
              "  </thead>\n",
              "  <tbody>\n",
              "    <tr>\n",
              "      <th>0</th>\n",
              "      <td>2016-01-01 00:00:00</td>\n",
              "      <td>location 7369</td>\n",
              "      <td>25.0</td>\n",
              "      <td>6.0</td>\n",
              "      <td>0.0</td>\n",
              "      <td>20.0</td>\n",
              "      <td>1019.7</td>\n",
              "      <td>NaN</td>\n",
              "      <td>0.0</td>\n",
              "    </tr>\n",
              "    <tr>\n",
              "      <th>1</th>\n",
              "      <td>2016-01-01 01:00:00</td>\n",
              "      <td>location 7369</td>\n",
              "      <td>24.4</td>\n",
              "      <td>NaN</td>\n",
              "      <td>70.0</td>\n",
              "      <td>21.1</td>\n",
              "      <td>1020.2</td>\n",
              "      <td>-1.0</td>\n",
              "      <td>1.5</td>\n",
              "    </tr>\n",
              "    <tr>\n",
              "      <th>2</th>\n",
              "      <td>2016-01-01 02:00:00</td>\n",
              "      <td>location 7369</td>\n",
              "      <td>22.8</td>\n",
              "      <td>2.0</td>\n",
              "      <td>0.0</td>\n",
              "      <td>21.1</td>\n",
              "      <td>1020.2</td>\n",
              "      <td>0.0</td>\n",
              "      <td>0.0</td>\n",
              "    </tr>\n",
              "    <tr>\n",
              "      <th>3</th>\n",
              "      <td>2016-01-01 03:00:00</td>\n",
              "      <td>location 7369</td>\n",
              "      <td>21.1</td>\n",
              "      <td>2.0</td>\n",
              "      <td>0.0</td>\n",
              "      <td>20.6</td>\n",
              "      <td>1020.1</td>\n",
              "      <td>0.0</td>\n",
              "      <td>0.0</td>\n",
              "    </tr>\n",
              "    <tr>\n",
              "      <th>4</th>\n",
              "      <td>2016-01-01 04:00:00</td>\n",
              "      <td>location 7369</td>\n",
              "      <td>20.0</td>\n",
              "      <td>2.0</td>\n",
              "      <td>250.0</td>\n",
              "      <td>20.0</td>\n",
              "      <td>1020.0</td>\n",
              "      <td>-1.0</td>\n",
              "      <td>2.6</td>\n",
              "    </tr>\n",
              "  </tbody>\n",
              "</table>\n",
              "</div>"
            ],
            "text/plain": [
              "             timestamp deidentified_location  ...  precipitation  wind_speed\n",
              "0  2016-01-01 00:00:00         location 7369  ...            NaN         0.0\n",
              "1  2016-01-01 01:00:00         location 7369  ...           -1.0         1.5\n",
              "2  2016-01-01 02:00:00         location 7369  ...            0.0         0.0\n",
              "3  2016-01-01 03:00:00         location 7369  ...            0.0         0.0\n",
              "4  2016-01-01 04:00:00         location 7369  ...           -1.0         2.6\n",
              "\n",
              "[5 rows x 9 columns]"
            ]
          },
          "metadata": {
            "tags": []
          },
          "execution_count": 37
        }
      ]
    },
    {
      "cell_type": "code",
      "metadata": {
        "id": "q9Y4G4rA4fUA",
        "colab_type": "code",
        "colab": {}
      },
      "source": [
        "whetherdata['timestamp'] = pd.to_datetime(whetherdata['timestamp'])"
      ],
      "execution_count": 0,
      "outputs": []
    },
    {
      "cell_type": "code",
      "metadata": {
        "id": "LByuBfmhed8p",
        "colab_type": "code",
        "colab": {}
      },
      "source": [
        "whetherdata['wdate'] = whetherdata['timestamp'].dt.date"
      ],
      "execution_count": 0,
      "outputs": []
    },
    {
      "cell_type": "code",
      "metadata": {
        "id": "v3sSuLB4eR3I",
        "colab_type": "code",
        "colab": {}
      },
      "source": [
        "from scipy import interpolate"
      ],
      "execution_count": 0,
      "outputs": []
    },
    {
      "cell_type": "code",
      "metadata": {
        "id": "-i2Tb1k8YdpD",
        "colab_type": "code",
        "colab": {}
      },
      "source": [
        "whetherdata.interpolate(method='linear', inplace=True)"
      ],
      "execution_count": 0,
      "outputs": []
    },
    {
      "cell_type": "code",
      "metadata": {
        "id": "mn3rzKNpdCxD",
        "colab_type": "code",
        "colab": {}
      },
      "source": [
        "whetherdata['precipitation']=whetherdata['precipitation'].fillna(0)"
      ],
      "execution_count": 0,
      "outputs": []
    },
    {
      "cell_type": "code",
      "metadata": {
        "id": "Xj14pBu8QibB",
        "colab_type": "code",
        "colab": {}
      },
      "source": [
        ""
      ],
      "execution_count": 0,
      "outputs": []
    },
    {
      "cell_type": "code",
      "metadata": {
        "colab_type": "code",
        "id": "raZAbUDcQi61",
        "colab": {}
      },
      "source": [
        "whetherdata['month'] = whetherdata['timestamp'].dt.month"
      ],
      "execution_count": 0,
      "outputs": []
    },
    {
      "cell_type": "code",
      "metadata": {
        "colab_type": "code",
        "id": "nVSYzoITQjYp",
        "colab": {}
      },
      "source": [
        ""
      ],
      "execution_count": 0,
      "outputs": []
    },
    {
      "cell_type": "code",
      "metadata": {
        "id": "leZ5cEn4d6M9",
        "colab_type": "code",
        "outputId": "46eb555b-7f54-4f02-9ccc-983e44f6f7be",
        "colab": {
          "base_uri": "https://localhost:8080/",
          "height": 221
        }
      },
      "source": [
        "whetherdata.isnull().sum()"
      ],
      "execution_count": 44,
      "outputs": [
        {
          "output_type": "execute_result",
          "data": {
            "text/plain": [
              "timestamp                0\n",
              "deidentified_location    0\n",
              "temp_obs                 0\n",
              "cloudiness               0\n",
              "wind_direction           0\n",
              "dew_temp                 0\n",
              "pressure_sea_level       0\n",
              "precipitation            0\n",
              "wind_speed               0\n",
              "wdate                    0\n",
              "month                    0\n",
              "dtype: int64"
            ]
          },
          "metadata": {
            "tags": []
          },
          "execution_count": 44
        }
      ]
    },
    {
      "cell_type": "code",
      "metadata": {
        "id": "ked7p6bvX7Cs",
        "colab_type": "code",
        "outputId": "bebd5f02-6239-4b7d-fb52-4709b1eb40ae",
        "colab": {
          "base_uri": "https://localhost:8080/",
          "height": 204
        }
      },
      "source": [
        "whetherdata.head(5)"
      ],
      "execution_count": 45,
      "outputs": [
        {
          "output_type": "execute_result",
          "data": {
            "text/html": [
              "<div>\n",
              "<style scoped>\n",
              "    .dataframe tbody tr th:only-of-type {\n",
              "        vertical-align: middle;\n",
              "    }\n",
              "\n",
              "    .dataframe tbody tr th {\n",
              "        vertical-align: top;\n",
              "    }\n",
              "\n",
              "    .dataframe thead th {\n",
              "        text-align: right;\n",
              "    }\n",
              "</style>\n",
              "<table border=\"1\" class=\"dataframe\">\n",
              "  <thead>\n",
              "    <tr style=\"text-align: right;\">\n",
              "      <th></th>\n",
              "      <th>timestamp</th>\n",
              "      <th>deidentified_location</th>\n",
              "      <th>temp_obs</th>\n",
              "      <th>cloudiness</th>\n",
              "      <th>wind_direction</th>\n",
              "      <th>dew_temp</th>\n",
              "      <th>pressure_sea_level</th>\n",
              "      <th>precipitation</th>\n",
              "      <th>wind_speed</th>\n",
              "      <th>wdate</th>\n",
              "      <th>month</th>\n",
              "    </tr>\n",
              "  </thead>\n",
              "  <tbody>\n",
              "    <tr>\n",
              "      <th>0</th>\n",
              "      <td>2016-01-01 00:00:00</td>\n",
              "      <td>location 7369</td>\n",
              "      <td>25.0</td>\n",
              "      <td>6.0</td>\n",
              "      <td>0.0</td>\n",
              "      <td>20.0</td>\n",
              "      <td>1019.7</td>\n",
              "      <td>0.0</td>\n",
              "      <td>0.0</td>\n",
              "      <td>2016-01-01</td>\n",
              "      <td>1</td>\n",
              "    </tr>\n",
              "    <tr>\n",
              "      <th>1</th>\n",
              "      <td>2016-01-01 01:00:00</td>\n",
              "      <td>location 7369</td>\n",
              "      <td>24.4</td>\n",
              "      <td>4.0</td>\n",
              "      <td>70.0</td>\n",
              "      <td>21.1</td>\n",
              "      <td>1020.2</td>\n",
              "      <td>-1.0</td>\n",
              "      <td>1.5</td>\n",
              "      <td>2016-01-01</td>\n",
              "      <td>1</td>\n",
              "    </tr>\n",
              "    <tr>\n",
              "      <th>2</th>\n",
              "      <td>2016-01-01 02:00:00</td>\n",
              "      <td>location 7369</td>\n",
              "      <td>22.8</td>\n",
              "      <td>2.0</td>\n",
              "      <td>0.0</td>\n",
              "      <td>21.1</td>\n",
              "      <td>1020.2</td>\n",
              "      <td>0.0</td>\n",
              "      <td>0.0</td>\n",
              "      <td>2016-01-01</td>\n",
              "      <td>1</td>\n",
              "    </tr>\n",
              "    <tr>\n",
              "      <th>3</th>\n",
              "      <td>2016-01-01 03:00:00</td>\n",
              "      <td>location 7369</td>\n",
              "      <td>21.1</td>\n",
              "      <td>2.0</td>\n",
              "      <td>0.0</td>\n",
              "      <td>20.6</td>\n",
              "      <td>1020.1</td>\n",
              "      <td>0.0</td>\n",
              "      <td>0.0</td>\n",
              "      <td>2016-01-01</td>\n",
              "      <td>1</td>\n",
              "    </tr>\n",
              "    <tr>\n",
              "      <th>4</th>\n",
              "      <td>2016-01-01 04:00:00</td>\n",
              "      <td>location 7369</td>\n",
              "      <td>20.0</td>\n",
              "      <td>2.0</td>\n",
              "      <td>250.0</td>\n",
              "      <td>20.0</td>\n",
              "      <td>1020.0</td>\n",
              "      <td>-1.0</td>\n",
              "      <td>2.6</td>\n",
              "      <td>2016-01-01</td>\n",
              "      <td>1</td>\n",
              "    </tr>\n",
              "  </tbody>\n",
              "</table>\n",
              "</div>"
            ],
            "text/plain": [
              "            timestamp deidentified_location  ...       wdate  month\n",
              "0 2016-01-01 00:00:00         location 7369  ...  2016-01-01      1\n",
              "1 2016-01-01 01:00:00         location 7369  ...  2016-01-01      1\n",
              "2 2016-01-01 02:00:00         location 7369  ...  2016-01-01      1\n",
              "3 2016-01-01 03:00:00         location 7369  ...  2016-01-01      1\n",
              "4 2016-01-01 04:00:00         location 7369  ...  2016-01-01      1\n",
              "\n",
              "[5 rows x 11 columns]"
            ]
          },
          "metadata": {
            "tags": []
          },
          "execution_count": 45
        }
      ]
    },
    {
      "cell_type": "code",
      "metadata": {
        "id": "wzGe7jz7Klt4",
        "colab_type": "code",
        "outputId": "5dfca845-2ea3-43d9-adc3-4a4d00e6c828",
        "colab": {
          "base_uri": "https://localhost:8080/",
          "height": 425
        }
      },
      "source": [
        "whetherdata.timestamp[:23]"
      ],
      "execution_count": 46,
      "outputs": [
        {
          "output_type": "execute_result",
          "data": {
            "text/plain": [
              "0    2016-01-01 00:00:00\n",
              "1    2016-01-01 01:00:00\n",
              "2    2016-01-01 02:00:00\n",
              "3    2016-01-01 03:00:00\n",
              "4    2016-01-01 04:00:00\n",
              "5    2016-01-01 05:00:00\n",
              "6    2016-01-01 06:00:00\n",
              "7    2016-01-01 07:00:00\n",
              "8    2016-01-01 08:00:00\n",
              "9    2016-01-01 09:00:00\n",
              "10   2016-01-01 10:00:00\n",
              "11   2016-01-01 11:00:00\n",
              "12   2016-01-01 12:00:00\n",
              "13   2016-01-01 13:00:00\n",
              "14   2016-01-01 14:00:00\n",
              "15   2016-01-01 15:00:00\n",
              "16   2016-01-01 16:00:00\n",
              "17   2016-01-01 17:00:00\n",
              "18   2016-01-01 18:00:00\n",
              "19   2016-01-01 19:00:00\n",
              "20   2016-01-01 20:00:00\n",
              "21   2016-01-01 21:00:00\n",
              "22   2016-01-01 22:00:00\n",
              "Name: timestamp, dtype: datetime64[ns]"
            ]
          },
          "metadata": {
            "tags": []
          },
          "execution_count": 46
        }
      ]
    },
    {
      "cell_type": "code",
      "metadata": {
        "id": "l08yQ5qtRmqP",
        "colab_type": "code",
        "colab": {}
      },
      "source": [
        ""
      ],
      "execution_count": 0,
      "outputs": []
    },
    {
      "cell_type": "code",
      "metadata": {
        "id": "gFisU5fCHTtE",
        "colab_type": "code",
        "outputId": "845c00d0-ee6c-45cf-ad8c-3fe9889b1b58",
        "colab": {
          "base_uri": "https://localhost:8080/",
          "height": 34
        }
      },
      "source": [
        "whetherdata.shape"
      ],
      "execution_count": 47,
      "outputs": [
        {
          "output_type": "execute_result",
          "data": {
            "text/plain": [
              "(139773, 11)"
            ]
          },
          "metadata": {
            "tags": []
          },
          "execution_count": 47
        }
      ]
    },
    {
      "cell_type": "code",
      "metadata": {
        "id": "JWFrANNy4e7I",
        "colab_type": "code",
        "colab": {}
      },
      "source": [
        "#whetherdata.drop(['timestamp','wdate'],axis=1,inplace=True)"
      ],
      "execution_count": 0,
      "outputs": []
    },
    {
      "cell_type": "code",
      "metadata": {
        "id": "QqogAN8NHf8j",
        "colab_type": "code",
        "outputId": "d88ce306-a063-4bef-fd52-f29b28d8a9db",
        "colab": {
          "base_uri": "https://localhost:8080/",
          "height": 34
        }
      },
      "source": [
        "whetherdata.shape"
      ],
      "execution_count": 49,
      "outputs": [
        {
          "output_type": "execute_result",
          "data": {
            "text/plain": [
              "(139773, 11)"
            ]
          },
          "metadata": {
            "tags": []
          },
          "execution_count": 49
        }
      ]
    },
    {
      "cell_type": "code",
      "metadata": {
        "id": "w0B6y6XZHiLA",
        "colab_type": "code",
        "colab": {}
      },
      "source": [
        "import seaborn as sns"
      ],
      "execution_count": 0,
      "outputs": []
    },
    {
      "cell_type": "code",
      "metadata": {
        "id": "J6RgY-4HOEMn",
        "colab_type": "code",
        "outputId": "b3e14dbf-582e-4ab2-8d4b-62e0bfdb7814",
        "colab": {
          "base_uri": "https://localhost:8080/",
          "height": 297
        }
      },
      "source": [
        "sns.lineplot(x='month',y='temp_obs',data=whetherdata)"
      ],
      "execution_count": 51,
      "outputs": [
        {
          "output_type": "execute_result",
          "data": {
            "text/plain": [
              "<matplotlib.axes._subplots.AxesSubplot at 0x7f9db77bceb8>"
            ]
          },
          "metadata": {
            "tags": []
          },
          "execution_count": 51
        },
        {
          "output_type": "display_data",
          "data": {
            "image/png": "[encoded data removed]",
            "text/plain": [
              "<Figure size 432x288 with 1 Axes>"
            ]
          },
          "metadata": {
            "tags": []
          }
        }
      ]
    },
    {
      "cell_type": "code",
      "metadata": {
        "id": "X7nifti1J9vg",
        "colab_type": "code",
        "outputId": "ee261df4-dec8-4852-c2fd-32a0a92dc204",
        "colab": {
          "base_uri": "https://localhost:8080/",
          "height": 296
        }
      },
      "source": [
        "sns.lineplot(x=whetherdata.timestamp[:23],y='temp_obs',data=whetherdata)"
      ],
      "execution_count": 52,
      "outputs": [
        {
          "output_type": "execute_result",
          "data": {
            "text/plain": [
              "<matplotlib.axes._subplots.AxesSubplot at 0x7f9db7872208>"
            ]
          },
          "metadata": {
            "tags": []
          },
          "execution_count": 52
        },
        {
          "output_type": "display_data",
          "data": {
            "image/png": "[encoded data removed]",
            "text/plain": [
              "<Figure size 432x288 with 1 Axes>"
            ]
          },
          "metadata": {
            "tags": []
          }
        }
      ]
    },
    {
      "cell_type": "code",
      "metadata": {
        "id": "w0UZC4U-J9rz",
        "colab_type": "code",
        "colab": {}
      },
      "source": [
        ""
      ],
      "execution_count": 0,
      "outputs": []
    },
    {
      "cell_type": "code",
      "metadata": {
        "id": "h_6wAsQvJ9kz",
        "colab_type": "code",
        "colab": {}
      },
      "source": [
        ""
      ],
      "execution_count": 0,
      "outputs": []
    },
    {
      "cell_type": "code",
      "metadata": {
        "id": "q9ntVK_IJ9QT",
        "colab_type": "code",
        "colab": {}
      },
      "source": [
        ""
      ],
      "execution_count": 0,
      "outputs": []
    },
    {
      "cell_type": "code",
      "metadata": {
        "id": "B5GIIbj08IiQ",
        "colab_type": "code",
        "colab": {}
      },
      "source": [
        "whetherloc=whetherdata.groupby(['deidentified_location']).mean().reset_index()"
      ],
      "execution_count": 0,
      "outputs": []
    },
    {
      "cell_type": "code",
      "metadata": {
        "id": "g1pHi1ApMx_a",
        "colab_type": "code",
        "colab": {}
      },
      "source": [
        ""
      ],
      "execution_count": 0,
      "outputs": []
    },
    {
      "cell_type": "code",
      "metadata": {
        "id": "NwetcuDS4yz6",
        "colab_type": "code",
        "outputId": "648243bd-7f3f-4122-9cc7-31792a1b46ea",
        "colab": {
          "base_uri": "https://localhost:8080/",
          "height": 419
        }
      },
      "source": [
        "whetherdata.groupby(['wdate']).mean().reset_index()"
      ],
      "execution_count": 54,
      "outputs": [
        {
          "output_type": "execute_result",
          "data": {
            "text/html": [
              "<div>\n",
              "<style scoped>\n",
              "    .dataframe tbody tr th:only-of-type {\n",
              "        vertical-align: middle;\n",
              "    }\n",
              "\n",
              "    .dataframe tbody tr th {\n",
              "        vertical-align: top;\n",
              "    }\n",
              "\n",
              "    .dataframe thead th {\n",
              "        text-align: right;\n",
              "    }\n",
              "</style>\n",
              "<table border=\"1\" class=\"dataframe\">\n",
              "  <thead>\n",
              "    <tr style=\"text-align: right;\">\n",
              "      <th></th>\n",
              "      <th>wdate</th>\n",
              "      <th>temp_obs</th>\n",
              "      <th>cloudiness</th>\n",
              "      <th>wind_direction</th>\n",
              "      <th>dew_temp</th>\n",
              "      <th>pressure_sea_level</th>\n",
              "      <th>precipitation</th>\n",
              "      <th>wind_speed</th>\n",
              "      <th>month</th>\n",
              "    </tr>\n",
              "  </thead>\n",
              "  <tbody>\n",
              "    <tr>\n",
              "      <th>0</th>\n",
              "      <td>2016-01-01</td>\n",
              "      <td>5.365489</td>\n",
              "      <td>3.202928</td>\n",
              "      <td>173.260870</td>\n",
              "      <td>0.467391</td>\n",
              "      <td>1018.699510</td>\n",
              "      <td>0.643266</td>\n",
              "      <td>3.688587</td>\n",
              "      <td>1</td>\n",
              "    </tr>\n",
              "    <tr>\n",
              "      <th>1</th>\n",
              "      <td>2016-01-02</td>\n",
              "      <td>5.340160</td>\n",
              "      <td>2.689148</td>\n",
              "      <td>201.050532</td>\n",
              "      <td>-0.322872</td>\n",
              "      <td>1016.316037</td>\n",
              "      <td>0.854657</td>\n",
              "      <td>4.015426</td>\n",
              "      <td>1</td>\n",
              "    </tr>\n",
              "    <tr>\n",
              "      <th>2</th>\n",
              "      <td>2016-01-03</td>\n",
              "      <td>5.482353</td>\n",
              "      <td>3.055473</td>\n",
              "      <td>205.227273</td>\n",
              "      <td>0.240107</td>\n",
              "      <td>1012.300662</td>\n",
              "      <td>1.183130</td>\n",
              "      <td>3.927807</td>\n",
              "      <td>1</td>\n",
              "    </tr>\n",
              "    <tr>\n",
              "      <th>3</th>\n",
              "      <td>2016-01-04</td>\n",
              "      <td>4.125294</td>\n",
              "      <td>2.440519</td>\n",
              "      <td>225.801471</td>\n",
              "      <td>-1.981471</td>\n",
              "      <td>1012.099310</td>\n",
              "      <td>0.600726</td>\n",
              "      <td>3.708235</td>\n",
              "      <td>1</td>\n",
              "    </tr>\n",
              "    <tr>\n",
              "      <th>4</th>\n",
              "      <td>2016-01-05</td>\n",
              "      <td>3.766667</td>\n",
              "      <td>2.386317</td>\n",
              "      <td>181.767677</td>\n",
              "      <td>-1.519697</td>\n",
              "      <td>1016.294040</td>\n",
              "      <td>0.706797</td>\n",
              "      <td>4.133030</td>\n",
              "      <td>1</td>\n",
              "    </tr>\n",
              "    <tr>\n",
              "      <th>...</th>\n",
              "      <td>...</td>\n",
              "      <td>...</td>\n",
              "      <td>...</td>\n",
              "      <td>...</td>\n",
              "      <td>...</td>\n",
              "      <td>...</td>\n",
              "      <td>...</td>\n",
              "      <td>...</td>\n",
              "      <td>...</td>\n",
              "    </tr>\n",
              "    <tr>\n",
              "      <th>361</th>\n",
              "      <td>2016-12-27</td>\n",
              "      <td>7.958421</td>\n",
              "      <td>3.067335</td>\n",
              "      <td>178.671053</td>\n",
              "      <td>3.553684</td>\n",
              "      <td>1022.082253</td>\n",
              "      <td>0.541581</td>\n",
              "      <td>3.259211</td>\n",
              "      <td>12</td>\n",
              "    </tr>\n",
              "    <tr>\n",
              "      <th>362</th>\n",
              "      <td>2016-12-28</td>\n",
              "      <td>6.505483</td>\n",
              "      <td>2.470677</td>\n",
              "      <td>162.767624</td>\n",
              "      <td>1.417493</td>\n",
              "      <td>1021.994423</td>\n",
              "      <td>0.283752</td>\n",
              "      <td>2.405483</td>\n",
              "      <td>12</td>\n",
              "    </tr>\n",
              "    <tr>\n",
              "      <th>363</th>\n",
              "      <td>2016-12-29</td>\n",
              "      <td>5.672775</td>\n",
              "      <td>2.513984</td>\n",
              "      <td>144.869110</td>\n",
              "      <td>1.148691</td>\n",
              "      <td>1019.109481</td>\n",
              "      <td>0.910315</td>\n",
              "      <td>2.909424</td>\n",
              "      <td>12</td>\n",
              "    </tr>\n",
              "    <tr>\n",
              "      <th>364</th>\n",
              "      <td>2016-12-30</td>\n",
              "      <td>4.369531</td>\n",
              "      <td>3.933803</td>\n",
              "      <td>228.502604</td>\n",
              "      <td>-2.324479</td>\n",
              "      <td>1016.697603</td>\n",
              "      <td>0.176085</td>\n",
              "      <td>3.894531</td>\n",
              "      <td>12</td>\n",
              "    </tr>\n",
              "    <tr>\n",
              "      <th>365</th>\n",
              "      <td>2016-12-31</td>\n",
              "      <td>3.828534</td>\n",
              "      <td>4.329012</td>\n",
              "      <td>202.827225</td>\n",
              "      <td>-1.652094</td>\n",
              "      <td>1017.407559</td>\n",
              "      <td>0.327806</td>\n",
              "      <td>3.722251</td>\n",
              "      <td>12</td>\n",
              "    </tr>\n",
              "  </tbody>\n",
              "</table>\n",
              "<p>366 rows × 9 columns</p>\n",
              "</div>"
            ],
            "text/plain": [
              "          wdate  temp_obs  cloudiness  ...  precipitation  wind_speed  month\n",
              "0    2016-01-01  5.365489    3.202928  ...       0.643266    3.688587      1\n",
              "1    2016-01-02  5.340160    2.689148  ...       0.854657    4.015426      1\n",
              "2    2016-01-03  5.482353    3.055473  ...       1.183130    3.927807      1\n",
              "3    2016-01-04  4.125294    2.440519  ...       0.600726    3.708235      1\n",
              "4    2016-01-05  3.766667    2.386317  ...       0.706797    4.133030      1\n",
              "..          ...       ...         ...  ...            ...         ...    ...\n",
              "361  2016-12-27  7.958421    3.067335  ...       0.541581    3.259211     12\n",
              "362  2016-12-28  6.505483    2.470677  ...       0.283752    2.405483     12\n",
              "363  2016-12-29  5.672775    2.513984  ...       0.910315    2.909424     12\n",
              "364  2016-12-30  4.369531    3.933803  ...       0.176085    3.894531     12\n",
              "365  2016-12-31  3.828534    4.329012  ...       0.327806    3.722251     12\n",
              "\n",
              "[366 rows x 9 columns]"
            ]
          },
          "metadata": {
            "tags": []
          },
          "execution_count": 54
        }
      ]
    },
    {
      "cell_type": "code",
      "metadata": {
        "id": "NExtrJ3wJEsN",
        "colab_type": "code",
        "outputId": "a5ab96dc-e2a1-4850-ff64-8b2e36354767",
        "colab": {
          "base_uri": "https://localhost:8080/",
          "height": 419
        }
      },
      "source": [
        "whetherdata.groupby(['deidentified_location','wdate']).mean().reset_index()"
      ],
      "execution_count": 55,
      "outputs": [
        {
          "output_type": "execute_result",
          "data": {
            "text/html": [
              "<div>\n",
              "<style scoped>\n",
              "    .dataframe tbody tr th:only-of-type {\n",
              "        vertical-align: middle;\n",
              "    }\n",
              "\n",
              "    .dataframe tbody tr th {\n",
              "        vertical-align: top;\n",
              "    }\n",
              "\n",
              "    .dataframe thead th {\n",
              "        text-align: right;\n",
              "    }\n",
              "</style>\n",
              "<table border=\"1\" class=\"dataframe\">\n",
              "  <thead>\n",
              "    <tr style=\"text-align: right;\">\n",
              "      <th></th>\n",
              "      <th>deidentified_location</th>\n",
              "      <th>wdate</th>\n",
              "      <th>temp_obs</th>\n",
              "      <th>cloudiness</th>\n",
              "      <th>wind_direction</th>\n",
              "      <th>dew_temp</th>\n",
              "      <th>pressure_sea_level</th>\n",
              "      <th>precipitation</th>\n",
              "      <th>wind_speed</th>\n",
              "      <th>month</th>\n",
              "    </tr>\n",
              "  </thead>\n",
              "  <tbody>\n",
              "    <tr>\n",
              "      <th>0</th>\n",
              "      <td>location 1784</td>\n",
              "      <td>2016-01-01</td>\n",
              "      <td>-12.239130</td>\n",
              "      <td>0.000000</td>\n",
              "      <td>246.956522</td>\n",
              "      <td>-16.717391</td>\n",
              "      <td>1035.743478</td>\n",
              "      <td>0.00</td>\n",
              "      <td>2.869565</td>\n",
              "      <td>1</td>\n",
              "    </tr>\n",
              "    <tr>\n",
              "      <th>1</th>\n",
              "      <td>location 1784</td>\n",
              "      <td>2016-01-02</td>\n",
              "      <td>-10.075000</td>\n",
              "      <td>0.416667</td>\n",
              "      <td>231.666667</td>\n",
              "      <td>-16.158333</td>\n",
              "      <td>1032.004167</td>\n",
              "      <td>0.00</td>\n",
              "      <td>2.416667</td>\n",
              "      <td>1</td>\n",
              "    </tr>\n",
              "    <tr>\n",
              "      <th>2</th>\n",
              "      <td>location 1784</td>\n",
              "      <td>2016-01-03</td>\n",
              "      <td>-6.916667</td>\n",
              "      <td>0.333333</td>\n",
              "      <td>245.416667</td>\n",
              "      <td>-12.120833</td>\n",
              "      <td>1028.550000</td>\n",
              "      <td>0.00</td>\n",
              "      <td>1.725000</td>\n",
              "      <td>1</td>\n",
              "    </tr>\n",
              "    <tr>\n",
              "      <th>3</th>\n",
              "      <td>location 1784</td>\n",
              "      <td>2016-01-04</td>\n",
              "      <td>-5.279167</td>\n",
              "      <td>0.916667</td>\n",
              "      <td>130.416667</td>\n",
              "      <td>-9.362500</td>\n",
              "      <td>1020.729167</td>\n",
              "      <td>0.00</td>\n",
              "      <td>1.179167</td>\n",
              "      <td>1</td>\n",
              "    </tr>\n",
              "    <tr>\n",
              "      <th>4</th>\n",
              "      <td>location 1784</td>\n",
              "      <td>2016-01-05</td>\n",
              "      <td>-1.041667</td>\n",
              "      <td>2.000000</td>\n",
              "      <td>134.166667</td>\n",
              "      <td>-3.083333</td>\n",
              "      <td>1013.310417</td>\n",
              "      <td>0.25</td>\n",
              "      <td>1.300000</td>\n",
              "      <td>1</td>\n",
              "    </tr>\n",
              "    <tr>\n",
              "      <th>...</th>\n",
              "      <td>...</td>\n",
              "      <td>...</td>\n",
              "      <td>...</td>\n",
              "      <td>...</td>\n",
              "      <td>...</td>\n",
              "      <td>...</td>\n",
              "      <td>...</td>\n",
              "      <td>...</td>\n",
              "      <td>...</td>\n",
              "      <td>...</td>\n",
              "    </tr>\n",
              "    <tr>\n",
              "      <th>5851</th>\n",
              "      <td>location 959</td>\n",
              "      <td>2016-12-27</td>\n",
              "      <td>2.258333</td>\n",
              "      <td>0.000000</td>\n",
              "      <td>221.250000</td>\n",
              "      <td>0.300000</td>\n",
              "      <td>1043.795833</td>\n",
              "      <td>0.00</td>\n",
              "      <td>1.241667</td>\n",
              "      <td>12</td>\n",
              "    </tr>\n",
              "    <tr>\n",
              "      <th>5852</th>\n",
              "      <td>location 959</td>\n",
              "      <td>2016-12-28</td>\n",
              "      <td>1.983333</td>\n",
              "      <td>0.000000</td>\n",
              "      <td>84.166667</td>\n",
              "      <td>0.816667</td>\n",
              "      <td>1042.587500</td>\n",
              "      <td>0.00</td>\n",
              "      <td>1.483333</td>\n",
              "      <td>12</td>\n",
              "    </tr>\n",
              "    <tr>\n",
              "      <th>5853</th>\n",
              "      <td>location 959</td>\n",
              "      <td>2016-12-29</td>\n",
              "      <td>2.612500</td>\n",
              "      <td>0.375000</td>\n",
              "      <td>130.000000</td>\n",
              "      <td>1.016667</td>\n",
              "      <td>1037.429167</td>\n",
              "      <td>0.00</td>\n",
              "      <td>1.404167</td>\n",
              "      <td>12</td>\n",
              "    </tr>\n",
              "    <tr>\n",
              "      <th>5854</th>\n",
              "      <td>location 959</td>\n",
              "      <td>2016-12-30</td>\n",
              "      <td>1.437500</td>\n",
              "      <td>8.956897</td>\n",
              "      <td>248.750000</td>\n",
              "      <td>1.437500</td>\n",
              "      <td>1036.629167</td>\n",
              "      <td>0.00</td>\n",
              "      <td>1.441667</td>\n",
              "      <td>12</td>\n",
              "    </tr>\n",
              "    <tr>\n",
              "      <th>5855</th>\n",
              "      <td>location 959</td>\n",
              "      <td>2016-12-31</td>\n",
              "      <td>6.141667</td>\n",
              "      <td>7.293103</td>\n",
              "      <td>223.333333</td>\n",
              "      <td>5.383333</td>\n",
              "      <td>1030.879167</td>\n",
              "      <td>0.00</td>\n",
              "      <td>2.979167</td>\n",
              "      <td>12</td>\n",
              "    </tr>\n",
              "  </tbody>\n",
              "</table>\n",
              "<p>5856 rows × 10 columns</p>\n",
              "</div>"
            ],
            "text/plain": [
              "     deidentified_location       wdate  ...  wind_speed  month\n",
              "0            location 1784  2016-01-01  ...    2.869565      1\n",
              "1            location 1784  2016-01-02  ...    2.416667      1\n",
              "2            location 1784  2016-01-03  ...    1.725000      1\n",
              "3            location 1784  2016-01-04  ...    1.179167      1\n",
              "4            location 1784  2016-01-05  ...    1.300000      1\n",
              "...                    ...         ...  ...         ...    ...\n",
              "5851          location 959  2016-12-27  ...    1.241667     12\n",
              "5852          location 959  2016-12-28  ...    1.483333     12\n",
              "5853          location 959  2016-12-29  ...    1.404167     12\n",
              "5854          location 959  2016-12-30  ...    1.441667     12\n",
              "5855          location 959  2016-12-31  ...    2.979167     12\n",
              "\n",
              "[5856 rows x 10 columns]"
            ]
          },
          "metadata": {
            "tags": []
          },
          "execution_count": 55
        }
      ]
    },
    {
      "cell_type": "code",
      "metadata": {
        "id": "_co87kvqevC3",
        "colab_type": "code",
        "colab": {}
      },
      "source": [
        "#whdata.shape"
      ],
      "execution_count": 0,
      "outputs": []
    },
    {
      "cell_type": "code",
      "metadata": {
        "id": "403mMMxGdGbb",
        "colab_type": "code",
        "colab": {}
      },
      "source": [
        "#whdata.head(5)"
      ],
      "execution_count": 0,
      "outputs": []
    },
    {
      "cell_type": "code",
      "metadata": {
        "id": "GKEuas3N4ywp",
        "colab_type": "code",
        "colab": {}
      },
      "source": [
        "farmerid=pd.read_csv('/content/drive/My Drive/farm_data.csv')\n"
      ],
      "execution_count": 0,
      "outputs": []
    },
    {
      "cell_type": "code",
      "metadata": {
        "id": "kVYTn_PvdOiA",
        "colab_type": "code",
        "outputId": "7bd3e807-c897-47c6-8f35-df3289f96f9c",
        "colab": {
          "base_uri": "https://localhost:8080/",
          "height": 204
        }
      },
      "source": [
        "farmerid.head()"
      ],
      "execution_count": 59,
      "outputs": [
        {
          "output_type": "execute_result",
          "data": {
            "text/html": [
              "<div>\n",
              "<style scoped>\n",
              "    .dataframe tbody tr th:only-of-type {\n",
              "        vertical-align: middle;\n",
              "    }\n",
              "\n",
              "    .dataframe tbody tr th {\n",
              "        vertical-align: top;\n",
              "    }\n",
              "\n",
              "    .dataframe thead th {\n",
              "        text-align: right;\n",
              "    }\n",
              "</style>\n",
              "<table border=\"1\" class=\"dataframe\">\n",
              "  <thead>\n",
              "    <tr style=\"text-align: right;\">\n",
              "      <th></th>\n",
              "      <th>farm_id</th>\n",
              "      <th>operations_commencing_year</th>\n",
              "      <th>num_processing_plants</th>\n",
              "      <th>farm_area</th>\n",
              "      <th>farming_company</th>\n",
              "      <th>deidentified_location</th>\n",
              "    </tr>\n",
              "  </thead>\n",
              "  <tbody>\n",
              "    <tr>\n",
              "      <th>0</th>\n",
              "      <td>fid_110884</td>\n",
              "      <td>2008.0</td>\n",
              "      <td>NaN</td>\n",
              "      <td>690.455096</td>\n",
              "      <td>Obery Farms</td>\n",
              "      <td>location 7369</td>\n",
              "    </tr>\n",
              "    <tr>\n",
              "      <th>1</th>\n",
              "      <td>fid_90053</td>\n",
              "      <td>2004.0</td>\n",
              "      <td>NaN</td>\n",
              "      <td>252.696160</td>\n",
              "      <td>Obery Farms</td>\n",
              "      <td>location 7369</td>\n",
              "    </tr>\n",
              "    <tr>\n",
              "      <th>2</th>\n",
              "      <td>fid_17537</td>\n",
              "      <td>1991.0</td>\n",
              "      <td>NaN</td>\n",
              "      <td>499.446528</td>\n",
              "      <td>Obery Farms</td>\n",
              "      <td>location 7369</td>\n",
              "    </tr>\n",
              "    <tr>\n",
              "      <th>3</th>\n",
              "      <td>fid_110392</td>\n",
              "      <td>2002.0</td>\n",
              "      <td>NaN</td>\n",
              "      <td>2200.407555</td>\n",
              "      <td>Obery Farms</td>\n",
              "      <td>location 7369</td>\n",
              "    </tr>\n",
              "    <tr>\n",
              "      <th>4</th>\n",
              "      <td>fid_62402</td>\n",
              "      <td>1975.0</td>\n",
              "      <td>NaN</td>\n",
              "      <td>10833.140121</td>\n",
              "      <td>Obery Farms</td>\n",
              "      <td>location 7369</td>\n",
              "    </tr>\n",
              "  </tbody>\n",
              "</table>\n",
              "</div>"
            ],
            "text/plain": [
              "      farm_id  operations_commencing_year  ...  farming_company  deidentified_location\n",
              "0  fid_110884                      2008.0  ...      Obery Farms          location 7369\n",
              "1   fid_90053                      2004.0  ...      Obery Farms          location 7369\n",
              "2   fid_17537                      1991.0  ...      Obery Farms          location 7369\n",
              "3  fid_110392                      2002.0  ...      Obery Farms          location 7369\n",
              "4   fid_62402                      1975.0  ...      Obery Farms          location 7369\n",
              "\n",
              "[5 rows x 6 columns]"
            ]
          },
          "metadata": {
            "tags": []
          },
          "execution_count": 59
        }
      ]
    },
    {
      "cell_type": "code",
      "metadata": {
        "id": "rcwuMdnyXI3U",
        "colab_type": "code",
        "colab": {}
      },
      "source": [
        "#whdata"
      ],
      "execution_count": 0,
      "outputs": []
    },
    {
      "cell_type": "code",
      "metadata": {
        "id": "ixp2cBcF8s9K",
        "colab_type": "code",
        "outputId": "01442784-5468-47fc-c592-abf5a29cf128",
        "colab": {
          "base_uri": "https://localhost:8080/",
          "height": 180
        }
      },
      "source": [
        "\n",
        "data1.columns"
      ],
      "execution_count": 61,
      "outputs": [
        {
          "output_type": "error",
          "ename": "NameError",
          "evalue": "ignored",
          "traceback": [
            "\u001b[0;31m---------------------------------------------------------------------------\u001b[0m",
            "\u001b[0;31mNameError\u001b[0m                                 Traceback (most recent call last)",
            "\u001b[0;32m<ipython-input-61-614347faadbe>\u001b[0m in \u001b[0;36m<module>\u001b[0;34m()\u001b[0m\n\u001b[1;32m      1\u001b[0m \u001b[0;34m\u001b[0m\u001b[0m\n\u001b[0;32m----> 2\u001b[0;31m \u001b[0mdata1\u001b[0m\u001b[0;34m.\u001b[0m\u001b[0mcolumns\u001b[0m\u001b[0;34m\u001b[0m\u001b[0;34m\u001b[0m\u001b[0m\n\u001b[0m",
            "\u001b[0;31mNameError\u001b[0m: name 'data1' is not defined"
          ]
        }
      ]
    },
    {
      "cell_type": "code",
      "metadata": {
        "id": "_MFcPLLJ4ytN",
        "colab_type": "code",
        "colab": {}
      },
      "source": [
        "data1=pd.merge(farmerid,whetherloc,how='inner',on='deidentified_location')"
      ],
      "execution_count": 0,
      "outputs": []
    },
    {
      "cell_type": "code",
      "metadata": {
        "id": "2fmJtmhaXxHv",
        "colab_type": "code",
        "outputId": "b9378c3f-0662-4950-b78f-ff15d1a4a884",
        "colab": {
          "base_uri": "https://localhost:8080/",
          "height": 34
        }
      },
      "source": [
        "data1.shape"
      ],
      "execution_count": 63,
      "outputs": [
        {
          "output_type": "execute_result",
          "data": {
            "text/plain": [
              "(1449, 14)"
            ]
          },
          "metadata": {
            "tags": []
          },
          "execution_count": 63
        }
      ]
    },
    {
      "cell_type": "code",
      "metadata": {
        "id": "OgAe6ajT8An6",
        "colab_type": "code",
        "outputId": "8879a35e-b010-43bb-edf0-20a5adfd6b91",
        "colab": {
          "base_uri": "https://localhost:8080/",
          "height": 537
        }
      },
      "source": [
        "data1.head(14)"
      ],
      "execution_count": 64,
      "outputs": [
        {
          "output_type": "execute_result",
          "data": {
            "text/html": [
              "<div>\n",
              "<style scoped>\n",
              "    .dataframe tbody tr th:only-of-type {\n",
              "        vertical-align: middle;\n",
              "    }\n",
              "\n",
              "    .dataframe tbody tr th {\n",
              "        vertical-align: top;\n",
              "    }\n",
              "\n",
              "    .dataframe thead th {\n",
              "        text-align: right;\n",
              "    }\n",
              "</style>\n",
              "<table border=\"1\" class=\"dataframe\">\n",
              "  <thead>\n",
              "    <tr style=\"text-align: right;\">\n",
              "      <th></th>\n",
              "      <th>farm_id</th>\n",
              "      <th>operations_commencing_year</th>\n",
              "      <th>num_processing_plants</th>\n",
              "      <th>farm_area</th>\n",
              "      <th>farming_company</th>\n",
              "      <th>deidentified_location</th>\n",
              "      <th>temp_obs</th>\n",
              "      <th>cloudiness</th>\n",
              "      <th>wind_direction</th>\n",
              "      <th>dew_temp</th>\n",
              "      <th>pressure_sea_level</th>\n",
              "      <th>precipitation</th>\n",
              "      <th>wind_speed</th>\n",
              "      <th>month</th>\n",
              "    </tr>\n",
              "  </thead>\n",
              "  <tbody>\n",
              "    <tr>\n",
              "      <th>0</th>\n",
              "      <td>fid_110884</td>\n",
              "      <td>2008.0</td>\n",
              "      <td>NaN</td>\n",
              "      <td>690.455096</td>\n",
              "      <td>Obery Farms</td>\n",
              "      <td>location 7369</td>\n",
              "      <td>22.832115</td>\n",
              "      <td>4.277542</td>\n",
              "      <td>156.767987</td>\n",
              "      <td>16.816029</td>\n",
              "      <td>1017.973725</td>\n",
              "      <td>1.3824</td>\n",
              "      <td>3.375114</td>\n",
              "      <td>6.513661</td>\n",
              "    </tr>\n",
              "    <tr>\n",
              "      <th>1</th>\n",
              "      <td>fid_90053</td>\n",
              "      <td>2004.0</td>\n",
              "      <td>NaN</td>\n",
              "      <td>252.696160</td>\n",
              "      <td>Obery Farms</td>\n",
              "      <td>location 7369</td>\n",
              "      <td>22.832115</td>\n",
              "      <td>4.277542</td>\n",
              "      <td>156.767987</td>\n",
              "      <td>16.816029</td>\n",
              "      <td>1017.973725</td>\n",
              "      <td>1.3824</td>\n",
              "      <td>3.375114</td>\n",
              "      <td>6.513661</td>\n",
              "    </tr>\n",
              "    <tr>\n",
              "      <th>2</th>\n",
              "      <td>fid_17537</td>\n",
              "      <td>1991.0</td>\n",
              "      <td>NaN</td>\n",
              "      <td>499.446528</td>\n",
              "      <td>Obery Farms</td>\n",
              "      <td>location 7369</td>\n",
              "      <td>22.832115</td>\n",
              "      <td>4.277542</td>\n",
              "      <td>156.767987</td>\n",
              "      <td>16.816029</td>\n",
              "      <td>1017.973725</td>\n",
              "      <td>1.3824</td>\n",
              "      <td>3.375114</td>\n",
              "      <td>6.513661</td>\n",
              "    </tr>\n",
              "    <tr>\n",
              "      <th>3</th>\n",
              "      <td>fid_110392</td>\n",
              "      <td>2002.0</td>\n",
              "      <td>NaN</td>\n",
              "      <td>2200.407555</td>\n",
              "      <td>Obery Farms</td>\n",
              "      <td>location 7369</td>\n",
              "      <td>22.832115</td>\n",
              "      <td>4.277542</td>\n",
              "      <td>156.767987</td>\n",
              "      <td>16.816029</td>\n",
              "      <td>1017.973725</td>\n",
              "      <td>1.3824</td>\n",
              "      <td>3.375114</td>\n",
              "      <td>6.513661</td>\n",
              "    </tr>\n",
              "    <tr>\n",
              "      <th>4</th>\n",
              "      <td>fid_62402</td>\n",
              "      <td>1975.0</td>\n",
              "      <td>NaN</td>\n",
              "      <td>10833.140121</td>\n",
              "      <td>Obery Farms</td>\n",
              "      <td>location 7369</td>\n",
              "      <td>22.832115</td>\n",
              "      <td>4.277542</td>\n",
              "      <td>156.767987</td>\n",
              "      <td>16.816029</td>\n",
              "      <td>1017.973725</td>\n",
              "      <td>1.3824</td>\n",
              "      <td>3.375114</td>\n",
              "      <td>6.513661</td>\n",
              "    </tr>\n",
              "    <tr>\n",
              "      <th>5</th>\n",
              "      <td>fid_121604</td>\n",
              "      <td>2000.0</td>\n",
              "      <td>NaN</td>\n",
              "      <td>743.224000</td>\n",
              "      <td>Obery Farms</td>\n",
              "      <td>location 7369</td>\n",
              "      <td>22.832115</td>\n",
              "      <td>4.277542</td>\n",
              "      <td>156.767987</td>\n",
              "      <td>16.816029</td>\n",
              "      <td>1017.973725</td>\n",
              "      <td>1.3824</td>\n",
              "      <td>3.375114</td>\n",
              "      <td>6.513661</td>\n",
              "    </tr>\n",
              "    <tr>\n",
              "      <th>6</th>\n",
              "      <td>fid_85694</td>\n",
              "      <td>1981.0</td>\n",
              "      <td>NaN</td>\n",
              "      <td>2594.409178</td>\n",
              "      <td>Dole Food Company</td>\n",
              "      <td>location 7369</td>\n",
              "      <td>22.832115</td>\n",
              "      <td>4.277542</td>\n",
              "      <td>156.767987</td>\n",
              "      <td>16.816029</td>\n",
              "      <td>1017.973725</td>\n",
              "      <td>1.3824</td>\n",
              "      <td>3.375114</td>\n",
              "      <td>6.513661</td>\n",
              "    </tr>\n",
              "    <tr>\n",
              "      <th>7</th>\n",
              "      <td>fid_33785</td>\n",
              "      <td>1989.0</td>\n",
              "      <td>NaN</td>\n",
              "      <td>11248.137822</td>\n",
              "      <td>Obery Farms</td>\n",
              "      <td>location 7369</td>\n",
              "      <td>22.832115</td>\n",
              "      <td>4.277542</td>\n",
              "      <td>156.767987</td>\n",
              "      <td>16.816029</td>\n",
              "      <td>1017.973725</td>\n",
              "      <td>1.3824</td>\n",
              "      <td>3.375114</td>\n",
              "      <td>6.513661</td>\n",
              "    </tr>\n",
              "    <tr>\n",
              "      <th>8</th>\n",
              "      <td>fid_110793</td>\n",
              "      <td>2003.0</td>\n",
              "      <td>NaN</td>\n",
              "      <td>5649.338527</td>\n",
              "      <td>Obery Farms</td>\n",
              "      <td>location 7369</td>\n",
              "      <td>22.832115</td>\n",
              "      <td>4.277542</td>\n",
              "      <td>156.767987</td>\n",
              "      <td>16.816029</td>\n",
              "      <td>1017.973725</td>\n",
              "      <td>1.3824</td>\n",
              "      <td>3.375114</td>\n",
              "      <td>6.513661</td>\n",
              "    </tr>\n",
              "    <tr>\n",
              "      <th>9</th>\n",
              "      <td>fid_32954</td>\n",
              "      <td>2010.0</td>\n",
              "      <td>NaN</td>\n",
              "      <td>2508.381000</td>\n",
              "      <td>Wayne Farms</td>\n",
              "      <td>location 7369</td>\n",
              "      <td>22.832115</td>\n",
              "      <td>4.277542</td>\n",
              "      <td>156.767987</td>\n",
              "      <td>16.816029</td>\n",
              "      <td>1017.973725</td>\n",
              "      <td>1.3824</td>\n",
              "      <td>3.375114</td>\n",
              "      <td>6.513661</td>\n",
              "    </tr>\n",
              "    <tr>\n",
              "      <th>10</th>\n",
              "      <td>fid_61445</td>\n",
              "      <td>1991.0</td>\n",
              "      <td>NaN</td>\n",
              "      <td>34445.924019</td>\n",
              "      <td>Sanderson Farms</td>\n",
              "      <td>location 7369</td>\n",
              "      <td>22.832115</td>\n",
              "      <td>4.277542</td>\n",
              "      <td>156.767987</td>\n",
              "      <td>16.816029</td>\n",
              "      <td>1017.973725</td>\n",
              "      <td>1.3824</td>\n",
              "      <td>3.375114</td>\n",
              "      <td>6.513661</td>\n",
              "    </tr>\n",
              "    <tr>\n",
              "      <th>11</th>\n",
              "      <td>fid_20096</td>\n",
              "      <td>1968.0</td>\n",
              "      <td>NaN</td>\n",
              "      <td>4559.028919</td>\n",
              "      <td>Obery Farms</td>\n",
              "      <td>location 7369</td>\n",
              "      <td>22.832115</td>\n",
              "      <td>4.277542</td>\n",
              "      <td>156.767987</td>\n",
              "      <td>16.816029</td>\n",
              "      <td>1017.973725</td>\n",
              "      <td>1.3824</td>\n",
              "      <td>3.375114</td>\n",
              "      <td>6.513661</td>\n",
              "    </tr>\n",
              "    <tr>\n",
              "      <th>12</th>\n",
              "      <td>fid_56102</td>\n",
              "      <td>1999.0</td>\n",
              "      <td>NaN</td>\n",
              "      <td>3446.701300</td>\n",
              "      <td>Dole Food Company</td>\n",
              "      <td>location 7369</td>\n",
              "      <td>22.832115</td>\n",
              "      <td>4.277542</td>\n",
              "      <td>156.767987</td>\n",
              "      <td>16.816029</td>\n",
              "      <td>1017.973725</td>\n",
              "      <td>1.3824</td>\n",
              "      <td>3.375114</td>\n",
              "      <td>6.513661</td>\n",
              "    </tr>\n",
              "    <tr>\n",
              "      <th>13</th>\n",
              "      <td>fid_43573</td>\n",
              "      <td>2000.0</td>\n",
              "      <td>NaN</td>\n",
              "      <td>9232.700140</td>\n",
              "      <td>Obery Farms</td>\n",
              "      <td>location 7369</td>\n",
              "      <td>22.832115</td>\n",
              "      <td>4.277542</td>\n",
              "      <td>156.767987</td>\n",
              "      <td>16.816029</td>\n",
              "      <td>1017.973725</td>\n",
              "      <td>1.3824</td>\n",
              "      <td>3.375114</td>\n",
              "      <td>6.513661</td>\n",
              "    </tr>\n",
              "  </tbody>\n",
              "</table>\n",
              "</div>"
            ],
            "text/plain": [
              "       farm_id  operations_commencing_year  ...  wind_speed     month\n",
              "0   fid_110884                      2008.0  ...    3.375114  6.513661\n",
              "1    fid_90053                      2004.0  ...    3.375114  6.513661\n",
              "2    fid_17537                      1991.0  ...    3.375114  6.513661\n",
              "3   fid_110392                      2002.0  ...    3.375114  6.513661\n",
              "4    fid_62402                      1975.0  ...    3.375114  6.513661\n",
              "5   fid_121604                      2000.0  ...    3.375114  6.513661\n",
              "6    fid_85694                      1981.0  ...    3.375114  6.513661\n",
              "7    fid_33785                      1989.0  ...    3.375114  6.513661\n",
              "8   fid_110793                      2003.0  ...    3.375114  6.513661\n",
              "9    fid_32954                      2010.0  ...    3.375114  6.513661\n",
              "10   fid_61445                      1991.0  ...    3.375114  6.513661\n",
              "11   fid_20096                      1968.0  ...    3.375114  6.513661\n",
              "12   fid_56102                      1999.0  ...    3.375114  6.513661\n",
              "13   fid_43573                      2000.0  ...    3.375114  6.513661\n",
              "\n",
              "[14 rows x 14 columns]"
            ]
          },
          "metadata": {
            "tags": []
          },
          "execution_count": 64
        }
      ]
    },
    {
      "cell_type": "code",
      "metadata": {
        "id": "_kNX_XCaMg2X",
        "colab_type": "code",
        "outputId": "ddbc91ee-bd83-4cf8-ecd3-df0e958f8c37",
        "colab": {
          "base_uri": "https://localhost:8080/",
          "height": 34
        }
      },
      "source": [
        "data1.shape"
      ],
      "execution_count": 65,
      "outputs": [
        {
          "output_type": "execute_result",
          "data": {
            "text/plain": [
              "(1449, 14)"
            ]
          },
          "metadata": {
            "tags": []
          },
          "execution_count": 65
        }
      ]
    },
    {
      "cell_type": "code",
      "metadata": {
        "id": "3qpxZDVdTE9d",
        "colab_type": "code",
        "outputId": "a8fce3ba-499b-49e1-d142-d644bd1aa9f2",
        "colab": {
          "base_uri": "https://localhost:8080/",
          "height": 204
        }
      },
      "source": [
        "traindata.head(5)"
      ],
      "execution_count": 66,
      "outputs": [
        {
          "output_type": "execute_result",
          "data": {
            "text/html": [
              "<div>\n",
              "<style scoped>\n",
              "    .dataframe tbody tr th:only-of-type {\n",
              "        vertical-align: middle;\n",
              "    }\n",
              "\n",
              "    .dataframe tbody tr th {\n",
              "        vertical-align: top;\n",
              "    }\n",
              "\n",
              "    .dataframe thead th {\n",
              "        text-align: right;\n",
              "    }\n",
              "</style>\n",
              "<table border=\"1\" class=\"dataframe\">\n",
              "  <thead>\n",
              "    <tr style=\"text-align: right;\">\n",
              "      <th></th>\n",
              "      <th>date</th>\n",
              "      <th>farm_id</th>\n",
              "      <th>ingredient_type</th>\n",
              "      <th>yield</th>\n",
              "      <th>ondate</th>\n",
              "    </tr>\n",
              "  </thead>\n",
              "  <tbody>\n",
              "    <tr>\n",
              "      <th>0</th>\n",
              "      <td>2016-01-01</td>\n",
              "      <td>fid_110884</td>\n",
              "      <td>ing_w</td>\n",
              "      <td>0.0</td>\n",
              "      <td>2016-01-01</td>\n",
              "    </tr>\n",
              "    <tr>\n",
              "      <th>1</th>\n",
              "      <td>2016-01-01</td>\n",
              "      <td>fid_90053</td>\n",
              "      <td>ing_w</td>\n",
              "      <td>0.0</td>\n",
              "      <td>2016-01-01</td>\n",
              "    </tr>\n",
              "    <tr>\n",
              "      <th>2</th>\n",
              "      <td>2016-01-01</td>\n",
              "      <td>fid_17537</td>\n",
              "      <td>ing_w</td>\n",
              "      <td>0.0</td>\n",
              "      <td>2016-01-01</td>\n",
              "    </tr>\n",
              "    <tr>\n",
              "      <th>3</th>\n",
              "      <td>2016-01-01</td>\n",
              "      <td>fid_110392</td>\n",
              "      <td>ing_w</td>\n",
              "      <td>0.0</td>\n",
              "      <td>2016-01-01</td>\n",
              "    </tr>\n",
              "    <tr>\n",
              "      <th>4</th>\n",
              "      <td>2016-01-01</td>\n",
              "      <td>fid_62402</td>\n",
              "      <td>ing_w</td>\n",
              "      <td>0.0</td>\n",
              "      <td>2016-01-01</td>\n",
              "    </tr>\n",
              "  </tbody>\n",
              "</table>\n",
              "</div>"
            ],
            "text/plain": [
              "        date     farm_id ingredient_type  yield      ondate\n",
              "0 2016-01-01  fid_110884           ing_w    0.0  2016-01-01\n",
              "1 2016-01-01   fid_90053           ing_w    0.0  2016-01-01\n",
              "2 2016-01-01   fid_17537           ing_w    0.0  2016-01-01\n",
              "3 2016-01-01  fid_110392           ing_w    0.0  2016-01-01\n",
              "4 2016-01-01   fid_62402           ing_w    0.0  2016-01-01"
            ]
          },
          "metadata": {
            "tags": []
          },
          "execution_count": 66
        }
      ]
    },
    {
      "cell_type": "code",
      "metadata": {
        "id": "97CIdbB0UCzi",
        "colab_type": "code",
        "colab": {}
      },
      "source": [
        "datam=pd.merge(trdata,data1,how='left',on='farm_id')"
      ],
      "execution_count": 0,
      "outputs": []
    },
    {
      "cell_type": "code",
      "metadata": {
        "id": "S3kpLDtUUCnZ",
        "colab_type": "code",
        "outputId": "0b194d42-1d1b-4ab7-c8d7-d13e71e6b4ec",
        "colab": {
          "base_uri": "https://localhost:8080/",
          "height": 34
        }
      },
      "source": [
        "datam.shape"
      ],
      "execution_count": 68,
      "outputs": [
        {
          "output_type": "execute_result",
          "data": {
            "text/plain": [
              "(850397, 18)"
            ]
          },
          "metadata": {
            "tags": []
          },
          "execution_count": 68
        }
      ]
    },
    {
      "cell_type": "code",
      "metadata": {
        "id": "pNYQgb01Ua4R",
        "colab_type": "code",
        "outputId": "0c1c8e88-bd1b-42e8-e0fc-ae0147f5bda9",
        "colab": {
          "base_uri": "https://localhost:8080/",
          "height": 34
        }
      },
      "source": [
        "trdata.shape"
      ],
      "execution_count": 69,
      "outputs": [
        {
          "output_type": "execute_result",
          "data": {
            "text/plain": [
              "(839918, 5)"
            ]
          },
          "metadata": {
            "tags": []
          },
          "execution_count": 69
        }
      ]
    },
    {
      "cell_type": "code",
      "metadata": {
        "id": "tEsHIlYLUauJ",
        "colab_type": "code",
        "outputId": "5565aa26-8129-44b2-d92e-934ea839b233",
        "colab": {
          "base_uri": "https://localhost:8080/",
          "height": 309
        }
      },
      "source": [
        "datam.head(5)"
      ],
      "execution_count": 70,
      "outputs": [
        {
          "output_type": "execute_result",
          "data": {
            "text/html": [
              "<div>\n",
              "<style scoped>\n",
              "    .dataframe tbody tr th:only-of-type {\n",
              "        vertical-align: middle;\n",
              "    }\n",
              "\n",
              "    .dataframe tbody tr th {\n",
              "        vertical-align: top;\n",
              "    }\n",
              "\n",
              "    .dataframe thead th {\n",
              "        text-align: right;\n",
              "    }\n",
              "</style>\n",
              "<table border=\"1\" class=\"dataframe\">\n",
              "  <thead>\n",
              "    <tr style=\"text-align: right;\">\n",
              "      <th></th>\n",
              "      <th>ondate</th>\n",
              "      <th>ingredient_type</th>\n",
              "      <th>farm_id</th>\n",
              "      <th>yield</th>\n",
              "      <th>month_x</th>\n",
              "      <th>operations_commencing_year</th>\n",
              "      <th>num_processing_plants</th>\n",
              "      <th>farm_area</th>\n",
              "      <th>farming_company</th>\n",
              "      <th>deidentified_location</th>\n",
              "      <th>temp_obs</th>\n",
              "      <th>cloudiness</th>\n",
              "      <th>wind_direction</th>\n",
              "      <th>dew_temp</th>\n",
              "      <th>pressure_sea_level</th>\n",
              "      <th>precipitation</th>\n",
              "      <th>wind_speed</th>\n",
              "      <th>month_y</th>\n",
              "    </tr>\n",
              "  </thead>\n",
              "  <tbody>\n",
              "    <tr>\n",
              "      <th>0</th>\n",
              "      <td>2016-01-01</td>\n",
              "      <td>ing_w</td>\n",
              "      <td>fid_100053</td>\n",
              "      <td>933.50</td>\n",
              "      <td>1</td>\n",
              "      <td>NaN</td>\n",
              "      <td>NaN</td>\n",
              "      <td>2043.866000</td>\n",
              "      <td>Del Monte Foods</td>\n",
              "      <td>location 5290</td>\n",
              "      <td>15.523195</td>\n",
              "      <td>5.033314</td>\n",
              "      <td>184.764237</td>\n",
              "      <td>8.127084</td>\n",
              "      <td>1017.875917</td>\n",
              "      <td>0.730011</td>\n",
              "      <td>3.911082</td>\n",
              "      <td>6.512870</td>\n",
              "    </tr>\n",
              "    <tr>\n",
              "      <th>1</th>\n",
              "      <td>2016-01-01</td>\n",
              "      <td>ing_w</td>\n",
              "      <td>fid_100107</td>\n",
              "      <td>5001.16</td>\n",
              "      <td>1</td>\n",
              "      <td>NaN</td>\n",
              "      <td>NaN</td>\n",
              "      <td>35416.574563</td>\n",
              "      <td>Del Monte Foods</td>\n",
              "      <td>location 2532</td>\n",
              "      <td>9.878618</td>\n",
              "      <td>4.757657</td>\n",
              "      <td>187.161562</td>\n",
              "      <td>3.400968</td>\n",
              "      <td>1015.869054</td>\n",
              "      <td>0.879199</td>\n",
              "      <td>4.197700</td>\n",
              "      <td>6.513037</td>\n",
              "    </tr>\n",
              "    <tr>\n",
              "      <th>2</th>\n",
              "      <td>2016-01-01</td>\n",
              "      <td>ing_w</td>\n",
              "      <td>fid_100135</td>\n",
              "      <td>620.92</td>\n",
              "      <td>1</td>\n",
              "      <td>NaN</td>\n",
              "      <td>NaN</td>\n",
              "      <td>1432.564260</td>\n",
              "      <td>Dole Food Company</td>\n",
              "      <td>location 5290</td>\n",
              "      <td>15.523195</td>\n",
              "      <td>5.033314</td>\n",
              "      <td>184.764237</td>\n",
              "      <td>8.127084</td>\n",
              "      <td>1017.875917</td>\n",
              "      <td>0.730011</td>\n",
              "      <td>3.911082</td>\n",
              "      <td>6.512870</td>\n",
              "    </tr>\n",
              "    <tr>\n",
              "      <th>3</th>\n",
              "      <td>2016-01-01</td>\n",
              "      <td>ing_w</td>\n",
              "      <td>fid_100249</td>\n",
              "      <td>338.73</td>\n",
              "      <td>1</td>\n",
              "      <td>NaN</td>\n",
              "      <td>NaN</td>\n",
              "      <td>941.571905</td>\n",
              "      <td>Wayne Farms</td>\n",
              "      <td>location 5489</td>\n",
              "      <td>24.941051</td>\n",
              "      <td>2.922805</td>\n",
              "      <td>153.229534</td>\n",
              "      <td>4.071257</td>\n",
              "      <td>1011.684601</td>\n",
              "      <td>0.156552</td>\n",
              "      <td>2.933758</td>\n",
              "      <td>6.513037</td>\n",
              "    </tr>\n",
              "    <tr>\n",
              "      <th>4</th>\n",
              "      <td>2016-01-01</td>\n",
              "      <td>ing_w</td>\n",
              "      <td>fid_100303</td>\n",
              "      <td>953.26</td>\n",
              "      <td>1</td>\n",
              "      <td>NaN</td>\n",
              "      <td>NaN</td>\n",
              "      <td>3716.120000</td>\n",
              "      <td>Wayne Farms</td>\n",
              "      <td>location 5290</td>\n",
              "      <td>15.523195</td>\n",
              "      <td>5.033314</td>\n",
              "      <td>184.764237</td>\n",
              "      <td>8.127084</td>\n",
              "      <td>1017.875917</td>\n",
              "      <td>0.730011</td>\n",
              "      <td>3.911082</td>\n",
              "      <td>6.512870</td>\n",
              "    </tr>\n",
              "  </tbody>\n",
              "</table>\n",
              "</div>"
            ],
            "text/plain": [
              "      ondate ingredient_type     farm_id  ...  precipitation  wind_speed   month_y\n",
              "0 2016-01-01           ing_w  fid_100053  ...       0.730011    3.911082  6.512870\n",
              "1 2016-01-01           ing_w  fid_100107  ...       0.879199    4.197700  6.513037\n",
              "2 2016-01-01           ing_w  fid_100135  ...       0.730011    3.911082  6.512870\n",
              "3 2016-01-01           ing_w  fid_100249  ...       0.156552    2.933758  6.513037\n",
              "4 2016-01-01           ing_w  fid_100303  ...       0.730011    3.911082  6.512870\n",
              "\n",
              "[5 rows x 18 columns]"
            ]
          },
          "metadata": {
            "tags": []
          },
          "execution_count": 70
        }
      ]
    },
    {
      "cell_type": "code",
      "metadata": {
        "id": "gSeiQgdewsYr",
        "colab_type": "code",
        "colab": {}
      },
      "source": [
        ""
      ],
      "execution_count": 0,
      "outputs": []
    },
    {
      "cell_type": "code",
      "metadata": {
        "id": "MLAambkxYjx7",
        "colab_type": "code",
        "colab": {}
      },
      "source": [
        ""
      ],
      "execution_count": 0,
      "outputs": []
    },
    {
      "cell_type": "code",
      "metadata": {
        "id": "Gmz0f_WQMq2-",
        "colab_type": "code",
        "colab": {}
      },
      "source": [
        "datam.to_csv('datam.csv')"
      ],
      "execution_count": 0,
      "outputs": []
    },
    {
      "cell_type": "code",
      "metadata": {
        "id": "i7BZo4KXgqSb",
        "colab_type": "code",
        "colab": {}
      },
      "source": [
        "dataing_w=datam.loc[datam['ingredient_type']=='ing_w']"
      ],
      "execution_count": 0,
      "outputs": []
    },
    {
      "cell_type": "code",
      "metadata": {
        "id": "tEjc_t0MijZ3",
        "colab_type": "code",
        "outputId": "0d684397-aeaf-4014-d1d4-9154c70f2e38",
        "colab": {
          "base_uri": "https://localhost:8080/",
          "height": 309
        }
      },
      "source": [
        "dataing_w.head(5)"
      ],
      "execution_count": 61,
      "outputs": [
        {
          "output_type": "execute_result",
          "data": {
            "text/html": [
              "<div>\n",
              "<style scoped>\n",
              "    .dataframe tbody tr th:only-of-type {\n",
              "        vertical-align: middle;\n",
              "    }\n",
              "\n",
              "    .dataframe tbody tr th {\n",
              "        vertical-align: top;\n",
              "    }\n",
              "\n",
              "    .dataframe thead th {\n",
              "        text-align: right;\n",
              "    }\n",
              "</style>\n",
              "<table border=\"1\" class=\"dataframe\">\n",
              "  <thead>\n",
              "    <tr style=\"text-align: right;\">\n",
              "      <th></th>\n",
              "      <th>ondate</th>\n",
              "      <th>ingredient_type</th>\n",
              "      <th>farm_id</th>\n",
              "      <th>yield</th>\n",
              "      <th>operations_commencing_year</th>\n",
              "      <th>num_processing_plants</th>\n",
              "      <th>farm_area</th>\n",
              "      <th>farming_company</th>\n",
              "      <th>deidentified_location</th>\n",
              "      <th>temp_obs</th>\n",
              "      <th>cloudiness</th>\n",
              "      <th>wind_direction</th>\n",
              "      <th>dew_temp</th>\n",
              "      <th>pressure_sea_level</th>\n",
              "      <th>precipitation</th>\n",
              "      <th>wind_speed</th>\n",
              "      <th>month</th>\n",
              "    </tr>\n",
              "  </thead>\n",
              "  <tbody>\n",
              "    <tr>\n",
              "      <th>0</th>\n",
              "      <td>2016-01-01</td>\n",
              "      <td>ing_w</td>\n",
              "      <td>fid_100053</td>\n",
              "      <td>933.50</td>\n",
              "      <td>NaN</td>\n",
              "      <td>NaN</td>\n",
              "      <td>2043.866000</td>\n",
              "      <td>Del Monte Foods</td>\n",
              "      <td>location 5290</td>\n",
              "      <td>15.523195</td>\n",
              "      <td>5.033314</td>\n",
              "      <td>184.764237</td>\n",
              "      <td>8.127084</td>\n",
              "      <td>1017.875917</td>\n",
              "      <td>0.730011</td>\n",
              "      <td>3.911082</td>\n",
              "      <td>6.512870</td>\n",
              "    </tr>\n",
              "    <tr>\n",
              "      <th>1</th>\n",
              "      <td>2016-01-01</td>\n",
              "      <td>ing_w</td>\n",
              "      <td>fid_100107</td>\n",
              "      <td>5001.16</td>\n",
              "      <td>NaN</td>\n",
              "      <td>NaN</td>\n",
              "      <td>35416.574563</td>\n",
              "      <td>Del Monte Foods</td>\n",
              "      <td>location 2532</td>\n",
              "      <td>9.878618</td>\n",
              "      <td>4.757657</td>\n",
              "      <td>187.161562</td>\n",
              "      <td>3.400968</td>\n",
              "      <td>1015.869054</td>\n",
              "      <td>0.879199</td>\n",
              "      <td>4.197700</td>\n",
              "      <td>6.513037</td>\n",
              "    </tr>\n",
              "    <tr>\n",
              "      <th>2</th>\n",
              "      <td>2016-01-01</td>\n",
              "      <td>ing_w</td>\n",
              "      <td>fid_100135</td>\n",
              "      <td>620.92</td>\n",
              "      <td>NaN</td>\n",
              "      <td>NaN</td>\n",
              "      <td>1432.564260</td>\n",
              "      <td>Dole Food Company</td>\n",
              "      <td>location 5290</td>\n",
              "      <td>15.523195</td>\n",
              "      <td>5.033314</td>\n",
              "      <td>184.764237</td>\n",
              "      <td>8.127084</td>\n",
              "      <td>1017.875917</td>\n",
              "      <td>0.730011</td>\n",
              "      <td>3.911082</td>\n",
              "      <td>6.512870</td>\n",
              "    </tr>\n",
              "    <tr>\n",
              "      <th>3</th>\n",
              "      <td>2016-01-01</td>\n",
              "      <td>ing_w</td>\n",
              "      <td>fid_100249</td>\n",
              "      <td>338.73</td>\n",
              "      <td>NaN</td>\n",
              "      <td>NaN</td>\n",
              "      <td>941.571905</td>\n",
              "      <td>Wayne Farms</td>\n",
              "      <td>location 5489</td>\n",
              "      <td>24.941051</td>\n",
              "      <td>2.922805</td>\n",
              "      <td>153.229534</td>\n",
              "      <td>4.071257</td>\n",
              "      <td>1011.684601</td>\n",
              "      <td>0.156552</td>\n",
              "      <td>2.933758</td>\n",
              "      <td>6.513037</td>\n",
              "    </tr>\n",
              "    <tr>\n",
              "      <th>4</th>\n",
              "      <td>2016-01-01</td>\n",
              "      <td>ing_w</td>\n",
              "      <td>fid_100303</td>\n",
              "      <td>953.26</td>\n",
              "      <td>NaN</td>\n",
              "      <td>NaN</td>\n",
              "      <td>3716.120000</td>\n",
              "      <td>Wayne Farms</td>\n",
              "      <td>location 5290</td>\n",
              "      <td>15.523195</td>\n",
              "      <td>5.033314</td>\n",
              "      <td>184.764237</td>\n",
              "      <td>8.127084</td>\n",
              "      <td>1017.875917</td>\n",
              "      <td>0.730011</td>\n",
              "      <td>3.911082</td>\n",
              "      <td>6.512870</td>\n",
              "    </tr>\n",
              "  </tbody>\n",
              "</table>\n",
              "</div>"
            ],
            "text/plain": [
              "       ondate ingredient_type     farm_id  ...  precipitation  wind_speed     month\n",
              "0  2016-01-01           ing_w  fid_100053  ...       0.730011    3.911082  6.512870\n",
              "1  2016-01-01           ing_w  fid_100107  ...       0.879199    4.197700  6.513037\n",
              "2  2016-01-01           ing_w  fid_100135  ...       0.730011    3.911082  6.512870\n",
              "3  2016-01-01           ing_w  fid_100249  ...       0.156552    2.933758  6.513037\n",
              "4  2016-01-01           ing_w  fid_100303  ...       0.730011    3.911082  6.512870\n",
              "\n",
              "[5 rows x 17 columns]"
            ]
          },
          "metadata": {
            "tags": []
          },
          "execution_count": 61
        }
      ]
    },
    {
      "cell_type": "code",
      "metadata": {
        "id": "GotrrmsZxCj5",
        "colab_type": "code",
        "colab": {
          "base_uri": "https://localhost:8080/",
          "height": 238
        },
        "outputId": "2ccc9523-7430-4dc2-80f1-f835a5c1194f"
      },
      "source": [
        "dataing_w.groupby(['ondate'])['yield'].sum()"
      ],
      "execution_count": 63,
      "outputs": [
        {
          "output_type": "execute_result",
          "data": {
            "text/plain": [
              "ondate\n",
              "2016-01-01    4.311805e+06\n",
              "2016-01-02    4.381807e+06\n",
              "2016-01-03    4.340107e+06\n",
              "2016-01-04    5.108472e+06\n",
              "2016-01-05    5.200020e+06\n",
              "                  ...     \n",
              "2016-12-27    5.457959e+06\n",
              "2016-12-28    5.619354e+06\n",
              "2016-12-29    5.687550e+06\n",
              "2016-12-30    5.644712e+06\n",
              "2016-12-31    5.164084e+06\n",
              "Name: yield, Length: 366, dtype: float64"
            ]
          },
          "metadata": {
            "tags": []
          },
          "execution_count": 63
        }
      ]
    },
    {
      "cell_type": "code",
      "metadata": {
        "id": "f9_F6HTOlfK1",
        "colab_type": "code",
        "colab": {}
      },
      "source": [
        "delf=dataing_w.drop('farm_id',axis=1)"
      ],
      "execution_count": 0,
      "outputs": []
    },
    {
      "cell_type": "code",
      "metadata": {
        "id": "7Gfgk3I7mBwI",
        "colab_type": "code",
        "outputId": "632fad3d-0abd-473b-8f26-31485871e8c7",
        "colab": {
          "base_uri": "https://localhost:8080/",
          "height": 165
        }
      },
      "source": [
        "delf.head(2)"
      ],
      "execution_count": 0,
      "outputs": [
        {
          "output_type": "execute_result",
          "data": {
            "text/html": [
              "<div>\n",
              "<style scoped>\n",
              "    .dataframe tbody tr th:only-of-type {\n",
              "        vertical-align: middle;\n",
              "    }\n",
              "\n",
              "    .dataframe tbody tr th {\n",
              "        vertical-align: top;\n",
              "    }\n",
              "\n",
              "    .dataframe thead th {\n",
              "        text-align: right;\n",
              "    }\n",
              "</style>\n",
              "<table border=\"1\" class=\"dataframe\">\n",
              "  <thead>\n",
              "    <tr style=\"text-align: right;\">\n",
              "      <th></th>\n",
              "      <th>ondate</th>\n",
              "      <th>ingredient_type</th>\n",
              "      <th>yield</th>\n",
              "      <th>operations_commencing_year</th>\n",
              "      <th>num_processing_plants</th>\n",
              "      <th>farm_area</th>\n",
              "      <th>farming_company</th>\n",
              "      <th>deidentified_location</th>\n",
              "      <th>temp_obs</th>\n",
              "      <th>cloudiness</th>\n",
              "      <th>wind_direction</th>\n",
              "      <th>dew_temp</th>\n",
              "      <th>pressure_sea_level</th>\n",
              "      <th>precipitation</th>\n",
              "      <th>wind_speed</th>\n",
              "      <th>month</th>\n",
              "    </tr>\n",
              "  </thead>\n",
              "  <tbody>\n",
              "    <tr>\n",
              "      <th>0</th>\n",
              "      <td>2016-01-01</td>\n",
              "      <td>ing_w</td>\n",
              "      <td>933.50</td>\n",
              "      <td>NaN</td>\n",
              "      <td>NaN</td>\n",
              "      <td>2043.866000</td>\n",
              "      <td>Del Monte Foods</td>\n",
              "      <td>location 5290</td>\n",
              "      <td>15.523195</td>\n",
              "      <td>5.033314</td>\n",
              "      <td>184.764237</td>\n",
              "      <td>8.127084</td>\n",
              "      <td>1017.875917</td>\n",
              "      <td>0.730011</td>\n",
              "      <td>3.911082</td>\n",
              "      <td>6.512870</td>\n",
              "    </tr>\n",
              "    <tr>\n",
              "      <th>1</th>\n",
              "      <td>2016-01-01</td>\n",
              "      <td>ing_w</td>\n",
              "      <td>5001.16</td>\n",
              "      <td>NaN</td>\n",
              "      <td>NaN</td>\n",
              "      <td>35416.574563</td>\n",
              "      <td>Del Monte Foods</td>\n",
              "      <td>location 2532</td>\n",
              "      <td>9.878618</td>\n",
              "      <td>4.757657</td>\n",
              "      <td>187.161562</td>\n",
              "      <td>3.400968</td>\n",
              "      <td>1015.869054</td>\n",
              "      <td>0.879199</td>\n",
              "      <td>4.197700</td>\n",
              "      <td>6.513037</td>\n",
              "    </tr>\n",
              "  </tbody>\n",
              "</table>\n",
              "</div>"
            ],
            "text/plain": [
              "       ondate ingredient_type    yield  ...  precipitation  wind_speed     month\n",
              "0  2016-01-01           ing_w   933.50  ...       0.730011    3.911082  6.512870\n",
              "1  2016-01-01           ing_w  5001.16  ...       0.879199    4.197700  6.513037\n",
              "\n",
              "[2 rows x 16 columns]"
            ]
          },
          "metadata": {
            "tags": []
          },
          "execution_count": 73
        }
      ]
    },
    {
      "cell_type": "code",
      "metadata": {
        "id": "Pdko4E6pmMSZ",
        "colab_type": "code",
        "colab": {}
      },
      "source": [
        ""
      ],
      "execution_count": 0,
      "outputs": []
    },
    {
      "cell_type": "code",
      "metadata": {
        "id": "7NV4M8XWmYq3",
        "colab_type": "code",
        "colab": {}
      },
      "source": [
        ""
      ],
      "execution_count": 0,
      "outputs": []
    },
    {
      "cell_type": "code",
      "metadata": {
        "id": "5M3Hk7T4irVC",
        "colab_type": "code",
        "colab": {}
      },
      "source": [
        "tringw=trdata.loc[trdata['ingredient_type']=='ing_w']"
      ],
      "execution_count": 0,
      "outputs": []
    },
    {
      "cell_type": "code",
      "metadata": {
        "id": "kZuEll0LkCDp",
        "colab_type": "code",
        "outputId": "28949abc-81a1-4f9a-8e40-a9b32910e9f3",
        "colab": {
          "base_uri": "https://localhost:8080/",
          "height": 111
        }
      },
      "source": [
        "tringw.head(2)"
      ],
      "execution_count": 0,
      "outputs": [
        {
          "output_type": "execute_result",
          "data": {
            "text/html": [
              "<div>\n",
              "<style scoped>\n",
              "    .dataframe tbody tr th:only-of-type {\n",
              "        vertical-align: middle;\n",
              "    }\n",
              "\n",
              "    .dataframe tbody tr th {\n",
              "        vertical-align: top;\n",
              "    }\n",
              "\n",
              "    .dataframe thead th {\n",
              "        text-align: right;\n",
              "    }\n",
              "</style>\n",
              "<table border=\"1\" class=\"dataframe\">\n",
              "  <thead>\n",
              "    <tr style=\"text-align: right;\">\n",
              "      <th></th>\n",
              "      <th>ondate</th>\n",
              "      <th>ingredient_type</th>\n",
              "      <th>farm_id</th>\n",
              "      <th>yield</th>\n",
              "    </tr>\n",
              "  </thead>\n",
              "  <tbody>\n",
              "    <tr>\n",
              "      <th>0</th>\n",
              "      <td>2016-01-01</td>\n",
              "      <td>ing_w</td>\n",
              "      <td>fid_100053</td>\n",
              "      <td>933.50</td>\n",
              "    </tr>\n",
              "    <tr>\n",
              "      <th>1</th>\n",
              "      <td>2016-01-01</td>\n",
              "      <td>ing_w</td>\n",
              "      <td>fid_100107</td>\n",
              "      <td>5001.16</td>\n",
              "    </tr>\n",
              "  </tbody>\n",
              "</table>\n",
              "</div>"
            ],
            "text/plain": [
              "       ondate ingredient_type     farm_id    yield\n",
              "0  2016-01-01           ing_w  fid_100053   933.50\n",
              "1  2016-01-01           ing_w  fid_100107  5001.16"
            ]
          },
          "metadata": {
            "tags": []
          },
          "execution_count": 111
        }
      ]
    },
    {
      "cell_type": "code",
      "metadata": {
        "id": "P78hiKZsV9LP",
        "colab_type": "code",
        "outputId": "bf2b5d61-595e-438c-ffe5-eecb3ac0dafa",
        "colab": {
          "base_uri": "https://localhost:8080/",
          "height": 296
        }
      },
      "source": [
        "sns.lineplot(x='ondate',y='yield',data=datam)"
      ],
      "execution_count": 0,
      "outputs": [
        {
          "output_type": "execute_result",
          "data": {
            "text/plain": [
              "<matplotlib.axes._subplots.AxesSubplot at 0x7f039b042780>"
            ]
          },
          "metadata": {
            "tags": []
          },
          "execution_count": 99
        },
        {
          "output_type": "display_data",
          "data": {
            "image/png": "[encoded data removed]",
            "text/plain": [
              "<Figure size 432x288 with 1 Axes>"
            ]
          },
          "metadata": {
            "tags": []
          }
        }
      ]
    },
    {
      "cell_type": "code",
      "metadata": {
        "id": "kZPCnu9CWqIH",
        "colab_type": "code",
        "outputId": "10fb8b91-08e7-429b-fd81-b82aa61c9cff",
        "colab": {
          "base_uri": "https://localhost:8080/",
          "height": 419
        }
      },
      "source": [
        "tringw.groupby(['ondate'])['yield'].sum().reset_index()"
      ],
      "execution_count": 0,
      "outputs": [
        {
          "output_type": "execute_result",
          "data": {
            "text/html": [
              "<div>\n",
              "<style scoped>\n",
              "    .dataframe tbody tr th:only-of-type {\n",
              "        vertical-align: middle;\n",
              "    }\n",
              "\n",
              "    .dataframe tbody tr th {\n",
              "        vertical-align: top;\n",
              "    }\n",
              "\n",
              "    .dataframe thead th {\n",
              "        text-align: right;\n",
              "    }\n",
              "</style>\n",
              "<table border=\"1\" class=\"dataframe\">\n",
              "  <thead>\n",
              "    <tr style=\"text-align: right;\">\n",
              "      <th></th>\n",
              "      <th>ondate</th>\n",
              "      <th>yield</th>\n",
              "    </tr>\n",
              "  </thead>\n",
              "  <tbody>\n",
              "    <tr>\n",
              "      <th>0</th>\n",
              "      <td>2016-01-01</td>\n",
              "      <td>4.219647e+06</td>\n",
              "    </tr>\n",
              "    <tr>\n",
              "      <th>1</th>\n",
              "      <td>2016-01-02</td>\n",
              "      <td>4.288951e+06</td>\n",
              "    </tr>\n",
              "    <tr>\n",
              "      <th>2</th>\n",
              "      <td>2016-01-03</td>\n",
              "      <td>4.247301e+06</td>\n",
              "    </tr>\n",
              "    <tr>\n",
              "      <th>3</th>\n",
              "      <td>2016-01-04</td>\n",
              "      <td>5.005503e+06</td>\n",
              "    </tr>\n",
              "    <tr>\n",
              "      <th>4</th>\n",
              "      <td>2016-01-05</td>\n",
              "      <td>5.095315e+06</td>\n",
              "    </tr>\n",
              "    <tr>\n",
              "      <th>...</th>\n",
              "      <td>...</td>\n",
              "      <td>...</td>\n",
              "    </tr>\n",
              "    <tr>\n",
              "      <th>361</th>\n",
              "      <td>2016-12-27</td>\n",
              "      <td>5.352626e+06</td>\n",
              "    </tr>\n",
              "    <tr>\n",
              "      <th>362</th>\n",
              "      <td>2016-12-28</td>\n",
              "      <td>5.518761e+06</td>\n",
              "    </tr>\n",
              "    <tr>\n",
              "      <th>363</th>\n",
              "      <td>2016-12-29</td>\n",
              "      <td>5.587175e+06</td>\n",
              "    </tr>\n",
              "    <tr>\n",
              "      <th>364</th>\n",
              "      <td>2016-12-30</td>\n",
              "      <td>5.543141e+06</td>\n",
              "    </tr>\n",
              "    <tr>\n",
              "      <th>365</th>\n",
              "      <td>2016-12-31</td>\n",
              "      <td>5.066865e+06</td>\n",
              "    </tr>\n",
              "  </tbody>\n",
              "</table>\n",
              "<p>366 rows × 2 columns</p>\n",
              "</div>"
            ],
            "text/plain": [
              "         ondate         yield\n",
              "0    2016-01-01  4.219647e+06\n",
              "1    2016-01-02  4.288951e+06\n",
              "2    2016-01-03  4.247301e+06\n",
              "3    2016-01-04  5.005503e+06\n",
              "4    2016-01-05  5.095315e+06\n",
              "..          ...           ...\n",
              "361  2016-12-27  5.352626e+06\n",
              "362  2016-12-28  5.518761e+06\n",
              "363  2016-12-29  5.587175e+06\n",
              "364  2016-12-30  5.543141e+06\n",
              "365  2016-12-31  5.066865e+06\n",
              "\n",
              "[366 rows x 2 columns]"
            ]
          },
          "metadata": {
            "tags": []
          },
          "execution_count": 114
        }
      ]
    },
    {
      "cell_type": "code",
      "metadata": {
        "id": "_7IYj0HhYwRX",
        "colab_type": "code",
        "colab": {}
      },
      "source": [
        "pd.merge(tringw,data1,how='left',on='farm_id')"
      ],
      "execution_count": 0,
      "outputs": []
    },
    {
      "cell_type": "code",
      "metadata": {
        "id": "nIOEfoFu9QW4",
        "colab_type": "code",
        "outputId": "344d2892-0349-4625-c26e-7fe6520f3083",
        "colab": {
          "base_uri": "https://localhost:8080/",
          "height": 309
        }
      },
      "source": [
        "datam.head(5)"
      ],
      "execution_count": 0,
      "outputs": [
        {
          "output_type": "execute_result",
          "data": {
            "text/html": [
              "<div>\n",
              "<style scoped>\n",
              "    .dataframe tbody tr th:only-of-type {\n",
              "        vertical-align: middle;\n",
              "    }\n",
              "\n",
              "    .dataframe tbody tr th {\n",
              "        vertical-align: top;\n",
              "    }\n",
              "\n",
              "    .dataframe thead th {\n",
              "        text-align: right;\n",
              "    }\n",
              "</style>\n",
              "<table border=\"1\" class=\"dataframe\">\n",
              "  <thead>\n",
              "    <tr style=\"text-align: right;\">\n",
              "      <th></th>\n",
              "      <th>ondate</th>\n",
              "      <th>ingredient_type</th>\n",
              "      <th>farm_id</th>\n",
              "      <th>yield</th>\n",
              "      <th>operations_commencing_year</th>\n",
              "      <th>num_processing_plants</th>\n",
              "      <th>farm_area</th>\n",
              "      <th>farming_company</th>\n",
              "      <th>deidentified_location</th>\n",
              "      <th>temp_obs</th>\n",
              "      <th>cloudiness</th>\n",
              "      <th>wind_direction</th>\n",
              "      <th>dew_temp</th>\n",
              "      <th>pressure_sea_level</th>\n",
              "      <th>precipitation</th>\n",
              "      <th>wind_speed</th>\n",
              "      <th>month</th>\n",
              "    </tr>\n",
              "  </thead>\n",
              "  <tbody>\n",
              "    <tr>\n",
              "      <th>0</th>\n",
              "      <td>2016-01-01</td>\n",
              "      <td>ing_w</td>\n",
              "      <td>fid_100053</td>\n",
              "      <td>933.50</td>\n",
              "      <td>NaN</td>\n",
              "      <td>NaN</td>\n",
              "      <td>2043.866000</td>\n",
              "      <td>Del Monte Foods</td>\n",
              "      <td>location 5290</td>\n",
              "      <td>15.523195</td>\n",
              "      <td>5.033314</td>\n",
              "      <td>184.764237</td>\n",
              "      <td>8.127084</td>\n",
              "      <td>1017.875917</td>\n",
              "      <td>0.730011</td>\n",
              "      <td>3.911082</td>\n",
              "      <td>6.512870</td>\n",
              "    </tr>\n",
              "    <tr>\n",
              "      <th>1</th>\n",
              "      <td>2016-01-01</td>\n",
              "      <td>ing_w</td>\n",
              "      <td>fid_100107</td>\n",
              "      <td>5001.16</td>\n",
              "      <td>NaN</td>\n",
              "      <td>NaN</td>\n",
              "      <td>35416.574563</td>\n",
              "      <td>Del Monte Foods</td>\n",
              "      <td>location 2532</td>\n",
              "      <td>9.878618</td>\n",
              "      <td>4.757657</td>\n",
              "      <td>187.161562</td>\n",
              "      <td>3.400968</td>\n",
              "      <td>1015.869054</td>\n",
              "      <td>0.879199</td>\n",
              "      <td>4.197700</td>\n",
              "      <td>6.513037</td>\n",
              "    </tr>\n",
              "    <tr>\n",
              "      <th>2</th>\n",
              "      <td>2016-01-01</td>\n",
              "      <td>ing_w</td>\n",
              "      <td>fid_100135</td>\n",
              "      <td>620.92</td>\n",
              "      <td>NaN</td>\n",
              "      <td>NaN</td>\n",
              "      <td>1432.564260</td>\n",
              "      <td>Dole Food Company</td>\n",
              "      <td>location 5290</td>\n",
              "      <td>15.523195</td>\n",
              "      <td>5.033314</td>\n",
              "      <td>184.764237</td>\n",
              "      <td>8.127084</td>\n",
              "      <td>1017.875917</td>\n",
              "      <td>0.730011</td>\n",
              "      <td>3.911082</td>\n",
              "      <td>6.512870</td>\n",
              "    </tr>\n",
              "    <tr>\n",
              "      <th>3</th>\n",
              "      <td>2016-01-01</td>\n",
              "      <td>ing_w</td>\n",
              "      <td>fid_100249</td>\n",
              "      <td>338.73</td>\n",
              "      <td>NaN</td>\n",
              "      <td>NaN</td>\n",
              "      <td>941.571905</td>\n",
              "      <td>Wayne Farms</td>\n",
              "      <td>location 5489</td>\n",
              "      <td>24.941051</td>\n",
              "      <td>2.922805</td>\n",
              "      <td>153.229534</td>\n",
              "      <td>4.071257</td>\n",
              "      <td>1011.684601</td>\n",
              "      <td>0.156552</td>\n",
              "      <td>2.933758</td>\n",
              "      <td>6.513037</td>\n",
              "    </tr>\n",
              "    <tr>\n",
              "      <th>4</th>\n",
              "      <td>2016-01-01</td>\n",
              "      <td>ing_w</td>\n",
              "      <td>fid_100303</td>\n",
              "      <td>953.26</td>\n",
              "      <td>NaN</td>\n",
              "      <td>NaN</td>\n",
              "      <td>3716.120000</td>\n",
              "      <td>Wayne Farms</td>\n",
              "      <td>location 5290</td>\n",
              "      <td>15.523195</td>\n",
              "      <td>5.033314</td>\n",
              "      <td>184.764237</td>\n",
              "      <td>8.127084</td>\n",
              "      <td>1017.875917</td>\n",
              "      <td>0.730011</td>\n",
              "      <td>3.911082</td>\n",
              "      <td>6.512870</td>\n",
              "    </tr>\n",
              "  </tbody>\n",
              "</table>\n",
              "</div>"
            ],
            "text/plain": [
              "       ondate ingredient_type     farm_id  ...  precipitation  wind_speed     month\n",
              "0  2016-01-01           ing_w  fid_100053  ...       0.730011    3.911082  6.512870\n",
              "1  2016-01-01           ing_w  fid_100107  ...       0.879199    4.197700  6.513037\n",
              "2  2016-01-01           ing_w  fid_100135  ...       0.730011    3.911082  6.512870\n",
              "3  2016-01-01           ing_w  fid_100249  ...       0.156552    2.933758  6.513037\n",
              "4  2016-01-01           ing_w  fid_100303  ...       0.730011    3.911082  6.512870\n",
              "\n",
              "[5 rows x 17 columns]"
            ]
          },
          "metadata": {
            "tags": []
          },
          "execution_count": 74
        }
      ]
    },
    {
      "cell_type": "code",
      "metadata": {
        "id": "KAXj6RAys73Z",
        "colab_type": "code",
        "colab": {}
      },
      "source": [
        "datamain=datam.copy()"
      ],
      "execution_count": 0,
      "outputs": []
    },
    {
      "cell_type": "code",
      "metadata": {
        "id": "1xE-6f5tteUk",
        "colab_type": "code",
        "colab": {}
      },
      "source": [
        "datamain.drop('farm_id',axis=1,inplace=True)"
      ],
      "execution_count": 0,
      "outputs": []
    },
    {
      "cell_type": "code",
      "metadata": {
        "id": "6kJMNwzrtkow",
        "colab_type": "code",
        "outputId": "f339270a-ccbf-45fd-edba-c4c8b0ac2d6b",
        "colab": {
          "base_uri": "https://localhost:8080/",
          "height": 309
        }
      },
      "source": [
        "datamain.head()"
      ],
      "execution_count": 0,
      "outputs": [
        {
          "output_type": "execute_result",
          "data": {
            "text/html": [
              "<div>\n",
              "<style scoped>\n",
              "    .dataframe tbody tr th:only-of-type {\n",
              "        vertical-align: middle;\n",
              "    }\n",
              "\n",
              "    .dataframe tbody tr th {\n",
              "        vertical-align: top;\n",
              "    }\n",
              "\n",
              "    .dataframe thead th {\n",
              "        text-align: right;\n",
              "    }\n",
              "</style>\n",
              "<table border=\"1\" class=\"dataframe\">\n",
              "  <thead>\n",
              "    <tr style=\"text-align: right;\">\n",
              "      <th></th>\n",
              "      <th>ondate</th>\n",
              "      <th>ingredient_type</th>\n",
              "      <th>yield</th>\n",
              "      <th>operations_commencing_year</th>\n",
              "      <th>num_processing_plants</th>\n",
              "      <th>farm_area</th>\n",
              "      <th>farming_company</th>\n",
              "      <th>deidentified_location</th>\n",
              "      <th>temp_obs</th>\n",
              "      <th>cloudiness</th>\n",
              "      <th>wind_direction</th>\n",
              "      <th>dew_temp</th>\n",
              "      <th>pressure_sea_level</th>\n",
              "      <th>precipitation</th>\n",
              "      <th>wind_speed</th>\n",
              "      <th>month</th>\n",
              "    </tr>\n",
              "  </thead>\n",
              "  <tbody>\n",
              "    <tr>\n",
              "      <th>0</th>\n",
              "      <td>2016-01-01</td>\n",
              "      <td>ing_w</td>\n",
              "      <td>933.50</td>\n",
              "      <td>NaN</td>\n",
              "      <td>NaN</td>\n",
              "      <td>2043.866000</td>\n",
              "      <td>Del Monte Foods</td>\n",
              "      <td>location 5290</td>\n",
              "      <td>15.523195</td>\n",
              "      <td>5.033314</td>\n",
              "      <td>184.764237</td>\n",
              "      <td>8.127084</td>\n",
              "      <td>1017.875917</td>\n",
              "      <td>0.730011</td>\n",
              "      <td>3.911082</td>\n",
              "      <td>6.512870</td>\n",
              "    </tr>\n",
              "    <tr>\n",
              "      <th>1</th>\n",
              "      <td>2016-01-01</td>\n",
              "      <td>ing_w</td>\n",
              "      <td>5001.16</td>\n",
              "      <td>NaN</td>\n",
              "      <td>NaN</td>\n",
              "      <td>35416.574563</td>\n",
              "      <td>Del Monte Foods</td>\n",
              "      <td>location 2532</td>\n",
              "      <td>9.878618</td>\n",
              "      <td>4.757657</td>\n",
              "      <td>187.161562</td>\n",
              "      <td>3.400968</td>\n",
              "      <td>1015.869054</td>\n",
              "      <td>0.879199</td>\n",
              "      <td>4.197700</td>\n",
              "      <td>6.513037</td>\n",
              "    </tr>\n",
              "    <tr>\n",
              "      <th>2</th>\n",
              "      <td>2016-01-01</td>\n",
              "      <td>ing_w</td>\n",
              "      <td>620.92</td>\n",
              "      <td>NaN</td>\n",
              "      <td>NaN</td>\n",
              "      <td>1432.564260</td>\n",
              "      <td>Dole Food Company</td>\n",
              "      <td>location 5290</td>\n",
              "      <td>15.523195</td>\n",
              "      <td>5.033314</td>\n",
              "      <td>184.764237</td>\n",
              "      <td>8.127084</td>\n",
              "      <td>1017.875917</td>\n",
              "      <td>0.730011</td>\n",
              "      <td>3.911082</td>\n",
              "      <td>6.512870</td>\n",
              "    </tr>\n",
              "    <tr>\n",
              "      <th>3</th>\n",
              "      <td>2016-01-01</td>\n",
              "      <td>ing_w</td>\n",
              "      <td>338.73</td>\n",
              "      <td>NaN</td>\n",
              "      <td>NaN</td>\n",
              "      <td>941.571905</td>\n",
              "      <td>Wayne Farms</td>\n",
              "      <td>location 5489</td>\n",
              "      <td>24.941051</td>\n",
              "      <td>2.922805</td>\n",
              "      <td>153.229534</td>\n",
              "      <td>4.071257</td>\n",
              "      <td>1011.684601</td>\n",
              "      <td>0.156552</td>\n",
              "      <td>2.933758</td>\n",
              "      <td>6.513037</td>\n",
              "    </tr>\n",
              "    <tr>\n",
              "      <th>4</th>\n",
              "      <td>2016-01-01</td>\n",
              "      <td>ing_w</td>\n",
              "      <td>953.26</td>\n",
              "      <td>NaN</td>\n",
              "      <td>NaN</td>\n",
              "      <td>3716.120000</td>\n",
              "      <td>Wayne Farms</td>\n",
              "      <td>location 5290</td>\n",
              "      <td>15.523195</td>\n",
              "      <td>5.033314</td>\n",
              "      <td>184.764237</td>\n",
              "      <td>8.127084</td>\n",
              "      <td>1017.875917</td>\n",
              "      <td>0.730011</td>\n",
              "      <td>3.911082</td>\n",
              "      <td>6.512870</td>\n",
              "    </tr>\n",
              "  </tbody>\n",
              "</table>\n",
              "</div>"
            ],
            "text/plain": [
              "       ondate ingredient_type    yield  ...  precipitation  wind_speed     month\n",
              "0  2016-01-01           ing_w   933.50  ...       0.730011    3.911082  6.512870\n",
              "1  2016-01-01           ing_w  5001.16  ...       0.879199    4.197700  6.513037\n",
              "2  2016-01-01           ing_w   620.92  ...       0.730011    3.911082  6.512870\n",
              "3  2016-01-01           ing_w   338.73  ...       0.156552    2.933758  6.513037\n",
              "4  2016-01-01           ing_w   953.26  ...       0.730011    3.911082  6.512870\n",
              "\n",
              "[5 rows x 16 columns]"
            ]
          },
          "metadata": {
            "tags": []
          },
          "execution_count": 77
        }
      ]
    },
    {
      "cell_type": "code",
      "metadata": {
        "id": "6IGeGaRnuo-l",
        "colab_type": "code",
        "outputId": "c6be7c8f-eb3e-404a-83ed-638fb06eae5b",
        "colab": {
          "base_uri": "https://localhost:8080/",
          "height": 34
        }
      },
      "source": [
        "datamain.shape"
      ],
      "execution_count": 0,
      "outputs": [
        {
          "output_type": "execute_result",
          "data": {
            "text/plain": [
              "(850397, 16)"
            ]
          },
          "metadata": {
            "tags": []
          },
          "execution_count": 83
        }
      ]
    },
    {
      "cell_type": "code",
      "metadata": {
        "id": "8XirNiViuJBB",
        "colab_type": "code",
        "outputId": "839a5e4e-3237-48d8-b897-5f4ab864d92a",
        "colab": {
          "base_uri": "https://localhost:8080/",
          "height": 306
        }
      },
      "source": [
        "datamain.isnull().sum()"
      ],
      "execution_count": 0,
      "outputs": [
        {
          "output_type": "execute_result",
          "data": {
            "text/plain": [
              "ondate                             0\n",
              "ingredient_type                    0\n",
              "yield                              0\n",
              "operations_commencing_year    510821\n",
              "num_processing_plants         702880\n",
              "farm_area                          0\n",
              "farming_company                    0\n",
              "deidentified_location              0\n",
              "temp_obs                           0\n",
              "cloudiness                         0\n",
              "wind_direction                     0\n",
              "dew_temp                           0\n",
              "pressure_sea_level                 0\n",
              "precipitation                      0\n",
              "wind_speed                         0\n",
              "month                              0\n",
              "dtype: int64"
            ]
          },
          "metadata": {
            "tags": []
          },
          "execution_count": 81
        }
      ]
    },
    {
      "cell_type": "code",
      "metadata": {
        "id": "Vpz78-TJuy3p",
        "colab_type": "code",
        "colab": {}
      },
      "source": [
        "datamain.drop(['operations_commencing_year','num_processing_plants'],inplace=True,axis=1)"
      ],
      "execution_count": 0,
      "outputs": []
    },
    {
      "cell_type": "code",
      "metadata": {
        "id": "EMldCwMXtoio",
        "colab_type": "code",
        "outputId": "e2230962-390b-4842-97fc-57e11b94c236",
        "colab": {
          "base_uri": "https://localhost:8080/",
          "height": 102
        }
      },
      "source": [
        "datamain.columns"
      ],
      "execution_count": 0,
      "outputs": [
        {
          "output_type": "execute_result",
          "data": {
            "text/plain": [
              "Index(['ondate', 'ingredient_type', 'yield', 'farm_area', 'farming_company',\n",
              "       'deidentified_location', 'temp_obs', 'cloudiness', 'wind_direction',\n",
              "       'dew_temp', 'pressure_sea_level', 'precipitation', 'wind_speed',\n",
              "       'month'],\n",
              "      dtype='object')"
            ]
          },
          "metadata": {
            "tags": []
          },
          "execution_count": 85
        }
      ]
    },
    {
      "cell_type": "code",
      "metadata": {
        "id": "GThJ0MfJt440",
        "colab_type": "code",
        "colab": {}
      },
      "source": [
        "datamain.gropuby(['ondate','ingredient_type','farm_area','farming_company','deidentified_location',])"
      ],
      "execution_count": 0,
      "outputs": []
    },
    {
      "cell_type": "code",
      "metadata": {
        "id": "i9bx4oNaORVm",
        "colab_type": "code",
        "colab": {}
      },
      "source": [
        ""
      ],
      "execution_count": 0,
      "outputs": []
    }
  ]
}